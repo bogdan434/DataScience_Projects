{
  "cells": [
    {
      "cell_type": "markdown",
      "source": [
        "## Тестовое задание Oliinyk Bohdan\n",
        "Мной было разработано две варианта решения этой задачи.\n",
        " 1. С помощью готовой модели **rubert-base-cased** \n",
        " https://huggingface.co/DeepPavlov/rubert-base-cased\n",
        " *Насколько я понял, то выделенные программой ключевые пункты диалога-должны свидетельстовать об основных проблемах пациента. Поэтому результаты на основе заранее натренированой модели показались мне нерепрезентативными и решено было сделать собственную модель, которая присваивает сначала каждому слову веса(перед этим удалаются все \"стопслова\", пунктуация, цифры), и на основе них \"взвешиваются\" предложения.*\n",
        " 2. Собственная модель"
      ],
      "metadata": {
        "id": "gpZcDjadl2qF"
      }
    },
    {
      "cell_type": "code",
      "execution_count": null,
      "metadata": {
        "colab": {
          "base_uri": "https://localhost:8080/"
        },
        "id": "Y8DklwgtfvBJ",
        "outputId": "42e41ac7-bde5-4411-f6ce-e347c4a20daf"
      },
      "outputs": [
        {
          "output_type": "stream",
          "name": "stdout",
          "text": [
            "Requirement already satisfied: transformers in /usr/local/lib/python3.7/dist-packages (4.18.0)\n",
            "Requirement already satisfied: packaging>=20.0 in /usr/local/lib/python3.7/dist-packages (from transformers) (21.3)\n",
            "Requirement already satisfied: regex!=2019.12.17 in /usr/local/lib/python3.7/dist-packages (from transformers) (2019.12.20)\n",
            "Requirement already satisfied: numpy>=1.17 in /usr/local/lib/python3.7/dist-packages (from transformers) (1.21.6)\n",
            "Requirement already satisfied: sacremoses in /usr/local/lib/python3.7/dist-packages (from transformers) (0.0.53)\n",
            "Requirement already satisfied: huggingface-hub<1.0,>=0.1.0 in /usr/local/lib/python3.7/dist-packages (from transformers) (0.5.1)\n",
            "Requirement already satisfied: filelock in /usr/local/lib/python3.7/dist-packages (from transformers) (3.6.0)\n",
            "Requirement already satisfied: importlib-metadata in /usr/local/lib/python3.7/dist-packages (from transformers) (4.11.3)\n",
            "Requirement already satisfied: tokenizers!=0.11.3,<0.13,>=0.11.1 in /usr/local/lib/python3.7/dist-packages (from transformers) (0.12.1)\n",
            "Requirement already satisfied: tqdm>=4.27 in /usr/local/lib/python3.7/dist-packages (from transformers) (4.64.0)\n",
            "Requirement already satisfied: requests in /usr/local/lib/python3.7/dist-packages (from transformers) (2.23.0)\n",
            "Requirement already satisfied: pyyaml>=5.1 in /usr/local/lib/python3.7/dist-packages (from transformers) (6.0)\n",
            "Requirement already satisfied: typing-extensions>=3.7.4.3 in /usr/local/lib/python3.7/dist-packages (from huggingface-hub<1.0,>=0.1.0->transformers) (4.2.0)\n",
            "Requirement already satisfied: pyparsing!=3.0.5,>=2.0.2 in /usr/local/lib/python3.7/dist-packages (from packaging>=20.0->transformers) (3.0.8)\n",
            "Requirement already satisfied: zipp>=0.5 in /usr/local/lib/python3.7/dist-packages (from importlib-metadata->transformers) (3.8.0)\n",
            "Requirement already satisfied: chardet<4,>=3.0.2 in /usr/local/lib/python3.7/dist-packages (from requests->transformers) (3.0.4)\n",
            "Requirement already satisfied: urllib3!=1.25.0,!=1.25.1,<1.26,>=1.21.1 in /usr/local/lib/python3.7/dist-packages (from requests->transformers) (1.24.3)\n",
            "Requirement already satisfied: certifi>=2017.4.17 in /usr/local/lib/python3.7/dist-packages (from requests->transformers) (2021.10.8)\n",
            "Requirement already satisfied: idna<3,>=2.5 in /usr/local/lib/python3.7/dist-packages (from requests->transformers) (2.10)\n",
            "Requirement already satisfied: six in /usr/local/lib/python3.7/dist-packages (from sacremoses->transformers) (1.15.0)\n",
            "Requirement already satisfied: joblib in /usr/local/lib/python3.7/dist-packages (from sacremoses->transformers) (1.1.0)\n",
            "Requirement already satisfied: click in /usr/local/lib/python3.7/dist-packages (from sacremoses->transformers) (7.1.2)\n"
          ]
        }
      ],
      "source": [
        "!pip install transformers"
      ]
    },
    {
      "cell_type": "code",
      "execution_count": null,
      "metadata": {
        "colab": {
          "base_uri": "https://localhost:8080/"
        },
        "id": "GPEL-stSf4y-",
        "outputId": "26d1ee3b-43a8-48df-fb51-cffd0ba8958f"
      },
      "outputs": [
        {
          "metadata": {
            "tags": null
          },
          "name": "stdout",
          "output_type": "stream",
          "text": [
            "Requirement already satisfied: sentencepiece in /usr/local/lib/python3.7/dist-packages (0.1.96)\n"
          ]
        }
      ],
      "source": [
        "!pip install sentencepiece"
      ]
    },
    {
      "cell_type": "code",
      "execution_count": null,
      "metadata": {
        "colab": {
          "base_uri": "https://localhost:8080/"
        },
        "id": "ct38Ig6Qf-ju",
        "outputId": "6f65e7c4-6c58-4317-89cb-fda2d5cb5fce"
      },
      "outputs": [
        {
          "output_type": "stream",
          "name": "stdout",
          "text": [
            "Requirement already satisfied: bert-extractive-summarizer in /usr/local/lib/python3.7/dist-packages (0.10.1)\n",
            "Requirement already satisfied: scikit-learn in /usr/local/lib/python3.7/dist-packages (from bert-extractive-summarizer) (1.0.2)\n",
            "Requirement already satisfied: spacy in /usr/local/lib/python3.7/dist-packages (from bert-extractive-summarizer) (2.2.4)\n",
            "Requirement already satisfied: transformers in /usr/local/lib/python3.7/dist-packages (from bert-extractive-summarizer) (4.18.0)\n",
            "Requirement already satisfied: scipy>=1.1.0 in /usr/local/lib/python3.7/dist-packages (from scikit-learn->bert-extractive-summarizer) (1.4.1)\n",
            "Requirement already satisfied: threadpoolctl>=2.0.0 in /usr/local/lib/python3.7/dist-packages (from scikit-learn->bert-extractive-summarizer) (3.1.0)\n",
            "Requirement already satisfied: joblib>=0.11 in /usr/local/lib/python3.7/dist-packages (from scikit-learn->bert-extractive-summarizer) (1.1.0)\n",
            "Requirement already satisfied: numpy>=1.14.6 in /usr/local/lib/python3.7/dist-packages (from scikit-learn->bert-extractive-summarizer) (1.21.6)\n",
            "Requirement already satisfied: blis<0.5.0,>=0.4.0 in /usr/local/lib/python3.7/dist-packages (from spacy->bert-extractive-summarizer) (0.4.1)\n",
            "Requirement already satisfied: tqdm<5.0.0,>=4.38.0 in /usr/local/lib/python3.7/dist-packages (from spacy->bert-extractive-summarizer) (4.64.0)\n",
            "Requirement already satisfied: wasabi<1.1.0,>=0.4.0 in /usr/local/lib/python3.7/dist-packages (from spacy->bert-extractive-summarizer) (0.9.1)\n",
            "Requirement already satisfied: setuptools in /usr/local/lib/python3.7/dist-packages (from spacy->bert-extractive-summarizer) (57.4.0)\n",
            "Requirement already satisfied: requests<3.0.0,>=2.13.0 in /usr/local/lib/python3.7/dist-packages (from spacy->bert-extractive-summarizer) (2.23.0)\n",
            "Requirement already satisfied: murmurhash<1.1.0,>=0.28.0 in /usr/local/lib/python3.7/dist-packages (from spacy->bert-extractive-summarizer) (1.0.7)\n",
            "Requirement already satisfied: cymem<2.1.0,>=2.0.2 in /usr/local/lib/python3.7/dist-packages (from spacy->bert-extractive-summarizer) (2.0.6)\n",
            "Requirement already satisfied: preshed<3.1.0,>=3.0.2 in /usr/local/lib/python3.7/dist-packages (from spacy->bert-extractive-summarizer) (3.0.6)\n",
            "Requirement already satisfied: thinc==7.4.0 in /usr/local/lib/python3.7/dist-packages (from spacy->bert-extractive-summarizer) (7.4.0)\n",
            "Requirement already satisfied: plac<1.2.0,>=0.9.6 in /usr/local/lib/python3.7/dist-packages (from spacy->bert-extractive-summarizer) (1.1.3)\n",
            "Requirement already satisfied: catalogue<1.1.0,>=0.0.7 in /usr/local/lib/python3.7/dist-packages (from spacy->bert-extractive-summarizer) (1.0.0)\n",
            "Requirement already satisfied: srsly<1.1.0,>=1.0.2 in /usr/local/lib/python3.7/dist-packages (from spacy->bert-extractive-summarizer) (1.0.5)\n",
            "Requirement already satisfied: importlib-metadata>=0.20 in /usr/local/lib/python3.7/dist-packages (from catalogue<1.1.0,>=0.0.7->spacy->bert-extractive-summarizer) (4.11.3)\n",
            "Requirement already satisfied: typing-extensions>=3.6.4 in /usr/local/lib/python3.7/dist-packages (from importlib-metadata>=0.20->catalogue<1.1.0,>=0.0.7->spacy->bert-extractive-summarizer) (4.2.0)\n",
            "Requirement already satisfied: zipp>=0.5 in /usr/local/lib/python3.7/dist-packages (from importlib-metadata>=0.20->catalogue<1.1.0,>=0.0.7->spacy->bert-extractive-summarizer) (3.8.0)\n",
            "Requirement already satisfied: urllib3!=1.25.0,!=1.25.1,<1.26,>=1.21.1 in /usr/local/lib/python3.7/dist-packages (from requests<3.0.0,>=2.13.0->spacy->bert-extractive-summarizer) (1.24.3)\n",
            "Requirement already satisfied: chardet<4,>=3.0.2 in /usr/local/lib/python3.7/dist-packages (from requests<3.0.0,>=2.13.0->spacy->bert-extractive-summarizer) (3.0.4)\n",
            "Requirement already satisfied: idna<3,>=2.5 in /usr/local/lib/python3.7/dist-packages (from requests<3.0.0,>=2.13.0->spacy->bert-extractive-summarizer) (2.10)\n",
            "Requirement already satisfied: certifi>=2017.4.17 in /usr/local/lib/python3.7/dist-packages (from requests<3.0.0,>=2.13.0->spacy->bert-extractive-summarizer) (2021.10.8)\n",
            "Requirement already satisfied: filelock in /usr/local/lib/python3.7/dist-packages (from transformers->bert-extractive-summarizer) (3.6.0)\n",
            "Requirement already satisfied: pyyaml>=5.1 in /usr/local/lib/python3.7/dist-packages (from transformers->bert-extractive-summarizer) (6.0)\n",
            "Requirement already satisfied: huggingface-hub<1.0,>=0.1.0 in /usr/local/lib/python3.7/dist-packages (from transformers->bert-extractive-summarizer) (0.5.1)\n",
            "Requirement already satisfied: packaging>=20.0 in /usr/local/lib/python3.7/dist-packages (from transformers->bert-extractive-summarizer) (21.3)\n",
            "Requirement already satisfied: regex!=2019.12.17 in /usr/local/lib/python3.7/dist-packages (from transformers->bert-extractive-summarizer) (2019.12.20)\n",
            "Requirement already satisfied: sacremoses in /usr/local/lib/python3.7/dist-packages (from transformers->bert-extractive-summarizer) (0.0.53)\n",
            "Requirement already satisfied: tokenizers!=0.11.3,<0.13,>=0.11.1 in /usr/local/lib/python3.7/dist-packages (from transformers->bert-extractive-summarizer) (0.12.1)\n",
            "Requirement already satisfied: pyparsing!=3.0.5,>=2.0.2 in /usr/local/lib/python3.7/dist-packages (from packaging>=20.0->transformers->bert-extractive-summarizer) (3.0.8)\n",
            "Requirement already satisfied: six in /usr/local/lib/python3.7/dist-packages (from sacremoses->transformers->bert-extractive-summarizer) (1.15.0)\n",
            "Requirement already satisfied: click in /usr/local/lib/python3.7/dist-packages (from sacremoses->transformers->bert-extractive-summarizer) (7.1.2)\n"
          ]
        }
      ],
      "source": [
        "!pip install bert-extractive-summarizer"
      ]
    },
    {
      "cell_type": "markdown",
      "source": [
        ""
      ],
      "metadata": {
        "id": "iiia77u_d-SX"
      }
    },
    {
      "cell_type": "markdown",
      "source": [
        "### Rubert-base-cased Model"
      ],
      "metadata": {
        "id": "Zbap-qZYq_Fk"
      }
    },
    {
      "cell_type": "code",
      "execution_count": null,
      "metadata": {
        "colab": {
          "base_uri": "https://localhost:8080/"
        },
        "id": "RcArMLR_g1vs",
        "outputId": "fc894ab3-d140-4c52-e76c-ee59d64ea7d5"
      },
      "outputs": [
        {
          "output_type": "stream",
          "name": "stdout",
          "text": [
            "Requirement already satisfied: nltk in /usr/local/lib/python3.7/dist-packages (3.2.5)\n",
            "Requirement already satisfied: six in /usr/local/lib/python3.7/dist-packages (from nltk) (1.15.0)\n",
            "[nltk_data] Downloading package punkt to /root/nltk_data...\n",
            "[nltk_data]   Package punkt is already up-to-date!\n"
          ]
        }
      ],
      "source": [
        "!pip install nltk\n",
        "import nltk \n",
        "nltk.download('punkt')\n",
        "from nltk.tokenize import word_tokenize, sent_tokenize"
      ]
    },
    {
      "cell_type": "code",
      "execution_count": null,
      "metadata": {
        "id": "xJcGxKSkfapC"
      },
      "outputs": [],
      "source": [
        "from summarizer import Summarizer"
      ]
    },
    {
      "cell_type": "code",
      "source": [
        "import urllib.request"
      ],
      "metadata": {
        "id": "zACnsAIBgSsf"
      },
      "execution_count": null,
      "outputs": []
    },
    {
      "cell_type": "code",
      "execution_count": null,
      "metadata": {
        "colab": {
          "base_uri": "https://localhost:8080/"
        },
        "id": "VcP38ZVvftFA",
        "outputId": "c7897ca2-e547-4cc3-81ce-1145558582cb"
      },
      "outputs": [
        {
          "output_type": "stream",
          "name": "stderr",
          "text": [
            "Some weights of the model checkpoint at DeepPavlov/rubert-base-cased were not used when initializing BertModel: ['cls.predictions.transform.dense.bias', 'cls.seq_relationship.bias', 'cls.predictions.transform.LayerNorm.weight', 'cls.predictions.transform.dense.weight', 'cls.seq_relationship.weight', 'cls.predictions.decoder.bias', 'cls.predictions.transform.LayerNorm.bias', 'cls.predictions.bias', 'cls.predictions.decoder.weight']\n",
            "- This IS expected if you are initializing BertModel from the checkpoint of a model trained on another task or with another architecture (e.g. initializing a BertForSequenceClassification model from a BertForPreTraining model).\n",
            "- This IS NOT expected if you are initializing BertModel from the checkpoint of a model that you expect to be exactly identical (initializing a BertForSequenceClassification model from a BertForSequenceClassification model).\n"
          ]
        }
      ],
      "source": [
        "from transformers import AutoConfig, AutoTokenizer, AutoModel\n",
        "\n",
        "# Load model\n",
        "custom_config = AutoConfig.from_pretrained('DeepPavlov/rubert-base-cased')\n",
        "custom_config.output_hidden_states=True\n",
        "custom_tokenizer = AutoTokenizer.from_pretrained('DeepPavlov/rubert-base-cased')\n",
        "custom_model = AutoModel.from_pretrained('DeepPavlov/rubert-base-cased', config=custom_config)\n"
      ]
    },
    {
      "cell_type": "code",
      "execution_count": null,
      "metadata": {
        "colab": {
          "base_uri": "https://localhost:8080/"
        },
        "id": "t4BTeVuSftvl",
        "outputId": "68d37543-426f-4707-8713-6bbdc897bfb5"
      },
      "outputs": [
        {
          "name": "stdout",
          "output_type": "stream",
          "text": [
            "Введите количество предложений: 10\n"
          ]
        }
      ],
      "source": [
        "#opening file\n",
        "from urllib.request import urlopen\n",
        "text = urlopen(\"https://drive.google.com/uc?id=18HkjO-2kSrqOrCsPR59OQZ4Rn41C3IwW&export=download\")\n",
        "text = str(text.read(), 'utf-8')\n",
        "#generating results\n",
        "model = Summarizer(custom_model=custom_model, custom_tokenizer=custom_tokenizer)\n",
        "n = int(input(\"Введите количество предложений: \"))\n",
        "result = model(text, num_sentences=n)\n"
      ]
    },
    {
      "cell_type": "code",
      "execution_count": null,
      "metadata": {
        "colab": {
          "base_uri": "https://localhost:8080/"
        },
        "id": "S_4xTSnYfjZx",
        "outputId": "be3c74ee-1d6f-4586-a3ba-30dac12b7a92"
      },
      "outputs": [
        {
          "output_type": "stream",
          "name": "stdout",
          "text": [
            "1 ﻿Психолог: Добрый день, меня зовут Ирина. \n",
            "\n",
            "2 Где вы сейчас находитесь, в каких условиях живете, какие события происходят вокруг вас? \n",
            "\n",
            "3 Я реально уже думала что можно и начать инвестировать но блин, реально никогда не знаешь, теперь думаю что можно было и пол года назад параллельно с подушкой все делать, но так иногда радует что хоть стабильность в деньгах есть, я все таки смогла научиться управлять немного своими финансами. \n",
            "\n",
            "4 Сейчас у вас нет основной работы для вас большой стресс искать новую, еще вы хотите вернуться в Киев, но не можете решить для себя стоит ли это сейчас делать, также вам хочется получить поддержку от мужа, но вы не можете получить той помощи на которую рассчитываете. \n",
            "\n",
            "5 Ощущение, что теряешь время, которого и так постоянно мало, и параллельно же ничего не улучшается, тебе еще наваливается сверху, и нужно разгребать все одновременно. \n",
            "\n",
            "6 Психолог: Расскажите подробнее, я так понимаю у вас разные точки зрения на какую то ситуацию с мужем? \n",
            "\n",
            "7 А ракета может прилететь куда угодно или не прилететь. \n",
            "\n",
            "8 Ольга: ну вот в том и дело, что иногда я понимаю что если бы я осталась одна мне было бы намного проще, но я хочу быть вместе с мужем, оберегать наше партнерство. \n",
            "\n",
            "9 Может я просто не понимаю что такое жить с партнером. \n",
            "\n",
            "10 Как домашнее задание я хочу дать вам возможность разобраться в своих эмоциях, понять что вы чувствуете, каждый раз когда у вас будет возникать ситуация, где муж будет затягивать с решением, даже если это маленькая бытовая ситуация -- вам нужно будет записывать в дневник ситуацию и свои эмоции. \n",
            "\n"
          ]
        }
      ],
      "source": [
        "#printing results\n",
        "sentences = sent_tokenize(result) \n",
        "sen_num = 0\n",
        "for sen in sentences:\n",
        "    sen_num+=1\n",
        "    print(sen_num, sen,\"\\n\")\n",
        "    \n",
        "\n"
      ]
    },
    {
      "cell_type": "markdown",
      "source": [
        "### Собственная модель"
      ],
      "metadata": {
        "id": "2UWGQfdot9Gf"
      }
    },
    {
      "cell_type": "code",
      "execution_count": null,
      "metadata": {
        "colab": {
          "base_uri": "https://localhost:8080/"
        },
        "id": "KPzGiEQ7gpvi",
        "outputId": "e2fd6e1a-ec4c-4f1e-b4cf-d7830455df51"
      },
      "outputs": [
        {
          "output_type": "stream",
          "name": "stdout",
          "text": [
            "[nltk_data] Downloading package stopwords to /root/nltk_data...\n",
            "[nltk_data]   Package stopwords is already up-to-date!\n"
          ]
        }
      ],
      "source": [
        "import nltk \n",
        "from nltk.corpus import stopwords  \n",
        "\n",
        "nltk.download('stopwords')\n",
        "\n",
        "from string import punctuation"
      ]
    },
    {
      "cell_type": "code",
      "execution_count": null,
      "metadata": {
        "id": "qwSM3joXhfkX"
      },
      "outputs": [],
      "source": [
        "#opening file\n",
        "text = urlopen(\"https://drive.google.com/uc?id=18HkjO-2kSrqOrCsPR59OQZ4Rn41C3IwW&export=download\")\n",
        "text = str(text.read(), 'utf-8')\n"
      ]
    },
    {
      "cell_type": "code",
      "execution_count": null,
      "metadata": {
        "id": "4sL2rqdAhjDo"
      },
      "outputs": [],
      "source": [
        "#Creating StopWord list(with punctuation and numbers)\n",
        "stopWords = list(stopwords.words(\"russian\"))+list(punctuation)+list([0,1,2,3,4,5,6,7,8,9])"
      ]
    },
    {
      "cell_type": "code",
      "execution_count": null,
      "metadata": {
        "colab": {
          "base_uri": "https://localhost:8080/"
        },
        "id": "_72Y92L9hqcG",
        "outputId": "1619521f-e64e-45a8-f6c7-95dbc2fd17a1"
      },
      "outputs": [
        {
          "output_type": "stream",
          "name": "stdout",
          "text": [
            "dict_items([('\\ufeffпсихолог', 1), ('добрый', 2), ('день', 2), ('зовут', 1), ('ирина', 1), ('ольга', 9), ('вами', 2), ('сегодня', 1), ('назначена', 1), ('консультация', 2), ('надеюсь', 1), ('наш', 1), ('разговор', 1), ('приятным', 1), ('полезным', 1), ('расскажите', 5), ('каким', 1), ('запросом', 1), ('пришли', 1), ('нашу', 1), ('первую', 1), ('встречу', 2), ('это', 11), ('первая', 1), ('жизни', 2), ('особо', 2), ('понимаю', 8), ('именно', 4), ('нужно', 10), ('говорить', 1), ('накопилось', 1), ('достаточно', 1), ('просто', 17), ('хотелось', 2), ('поговорить', 1), ('происходит', 4), ('моей', 1), ('жизнью', 1), ('таки', 3), ('война', 1), ('переезды', 1), ('куча', 1), ('короче', 6), ('кто-то', 1), ('услышал', 1), ('помог', 2), ('немного', 3), ('разобраться', 2), ('психолог', 9), ('действительно', 1), ('многие', 1), ('проживают', 1), ('события', 2), ('которым', 1), ('сложно', 3), ('готовым', 1), ('давайте', 3), ('начнем', 2), ('понемногу', 2), ('разбираться', 2), ('находитесь', 1), ('каких', 1), ('условиях', 2), ('живете', 1), ('какие', 2), ('происходят', 2), ('вокруг', 1), ('чувствую', 5), ('относительно', 1), ('безопасности', 2), ('переехали', 1), ('киева', 1), ('западную', 1), ('украину', 1), ('сказать', 2), ('тихо', 2), ('словно', 1), ('приходится', 4), ('начинать', 3), ('нуля', 5), ('деньги', 2), ('ээээ', 1), ('пару', 2), ('месяцев', 2), ('хватит', 2), ('искать', 6), ('работу', 7), ('пойму', 1), ('учится', 1), ('новую', 3), ('специальность', 1), ('попытаться', 1), ('найти', 1), ('менеджером', 1), ('раньше', 3), ('хотя', 4), ('кому', 1), ('менеджеры', 1), ('нужны', 1), ('толком', 1), ('работает', 1), ('наверно', 2), ('повезло', 1), ('людям', 1), ('которые', 2), ('сохранили', 1), ('прям', 3), ('как-то', 1), ('радостно', 1), ('потерять', 1), ('финансовую', 3), ('стабильность', 2), ('реально', 16), ('тяжело', 1), ('ждать', 7), ('что-то', 8), ('наладится', 3), ('скоро', 2), ('рада', 1), ('могла', 3), ('обеспечить', 1), ('подушку', 2), ('думала', 2), ('начать', 2), ('инвестировать', 1), ('блин', 3), ('знаешь', 2), ('думаю', 5), ('пол', 1), ('года', 1), ('назад', 1), ('параллельно', 2), ('подушкой', 1), ('делать', 7), ('радует', 1), ('деньгах', 1), ('смогла', 2), ('научиться', 1), ('управлять', 1), ('своими', 1), ('финансами', 1), ('найду', 1), ('скорее', 2), ('учить', 1), ('английский', 3), ('вряд', 1), ('украинские', 1), ('компании', 1), ('смогут', 1), ('дать', 2), ('хорошую', 1), ('оплату', 1), ('онлайн', 1), ('стабильное', 2), ('какое', 1), ('оно', 2), ('открывать', 1), ('свое', 1), ('дело', 3), ('интернете', 1), ('магазин', 1), ('доставкой', 1), ('выучить', 1), ('сколько', 2), ('ходила', 1), ('курсы', 1), ('вообще', 6), ('настоящее', 1), ('испытание', 1), ('английского', 1), ('кому-то', 1), ('нужна', 1), ('пока', 1), ('живем', 1), ('бесплатном', 1), ('жилье', 1), ('непонятно', 1), ('надолго', 1), ('возвращаться', 1), ('киеве', 1), ('дом', 2), ('родные', 1), ('стены', 1), ('удобства', 1), ('рукой', 1), ('боюсь', 2), ('ходить', 2), ('улице', 1), ('вижу', 1), ('везде', 1), ('новости', 1), ('растяжки', 1), ('бомбы', 1), ('молоке', 1), ('помощи', 2), ('волонтеров', 1), ('помощь', 1), ('едой', 1), ('дома', 1), ('проще', 5), ('никого', 3), ('знаю', 3), ('знакомые', 1), ('честно', 2), ('разъехались', 1), ('жизнь', 5), ('мужем', 3), ('постоянно', 7), ('принимать', 2), ('решения', 7), ('оттягивает', 1), ('могу', 3), ('время', 3), ('понятно', 4), ('снова', 3), ('долго', 1), ('закончится', 1), ('выделим', 1), ('вопросы', 1), ('услышала', 2), ('продолжим', 1), ('основной', 1), ('работы', 1), ('большой', 1), ('стресс', 1), ('хотите', 1), ('вернуться', 1), ('киев', 4), ('можете', 2), ('решить', 1), ('стоит', 1), ('также', 1), ('хочется', 2), ('получить', 2), ('поддержку', 1), ('мужа', 1), ('той', 1), ('которую', 2), ('рассчитываете', 1), ('самым', 1), ('большим', 1), ('испытанием', 1), ('является', 1), ('необходимо', 1), ('верно', 1), ('факт', 1), ('начала', 1), ('понимаете', 1), ('несколько', 1), ('теряла', 1), ('начинала', 1), ('``', 3), (\"''\", 3), ('поэтому', 1), ('кажется', 2), ('вроде', 1), ('иммунитета', 1), ('страх', 1), ('самой', 2), ('необходимости', 1), ('потеряю', 1), ('хотеться', 1), ('живешь', 1), ('период', 1), ('самое', 1), ('страшное', 1), ('ощущение', 1), ('теряешь', 2), ('которого', 1), ('мало', 1), ('улучшается', 1), ('тебе', 2), ('наваливается', 1), ('сверху', 1), ('разгребать', 1), ('одновременно', 1), ('людей', 2), ('рядом', 1), ('начинаются', 1), ('долги', 1), ('уверенности', 1), ('своих', 2), ('силах', 1), ('моложе', 1), ('становишься', 1), ('вечная', 1), ('конкуренция', 1), ('запал', 1), ('35', 1), ('здрасьте', 1), ('хочу', 13), ('заявить', 1), ('начинаю', 1), ('думать', 1), ('момент', 2), ('перестала', 1), ('контролировать', 1), ('нравилось', 1), ('жить', 6), ('потоке', 1), ('происходил', 1), ('часто', 1), ('везло', 1), ('будущее', 1), ('читаю', 1), ('блекауты', 1), ('теории', 1), ('заговора', 1), ('считаю', 1), ('остаток', 1), ('бюджета', 1), ('денег', 3), ('разных', 1), ('пытаюсь', 2), ('выделить', 1), ('прилетают', 1), ('дополнительные', 1), ('расходы', 1), ('готовится', 1), ('блекауту', 1), ('сделать', 2), ('закупку', 1), ('продуктов', 1), ('месяц', 1), ('вернемся', 1), ('обратно', 1), ('останемся', 1), ('девать', 1), ('итоге', 1), ('смотрю', 1), ('дырявую', 1), ('судорожно', 1), ('кроме', 1), ('прочего', 1), ('никакого', 1), ('верного', 2), ('решение', 2), ('задайте', 1), ('вопрос', 1), ('готовы', 1), ('брать', 1), ('ответственность', 1), ('принятые', 1), ('балансировать', 1), ('личной', 1), ('ответственностью', 1), ('собственную', 1), ('умении', 1), ('договориться', 2), ('типа', 8), ('жила', 1), ('одна', 5), ('коллективного', 1), ('сделала', 1), ('кого', 1), ('спрашиваешь', 1), ('подробнее', 1), ('разные', 1), ('точки', 1), ('зрения', 1), ('какую', 1), ('ситуацию', 2), ('собраться', 1), ('мыслями', 1), ('муж', 3), ('согласился', 1), ('переезд', 1), ('каждый', 2), ('говорю', 1), ('говорит', 3), ('хочешь', 2), ('поезжай', 1), ('приеду', 1), ('ехать', 2), ('вдвоем', 1), ('поехали', 2), ('буду', 1), ('вместе', 4), ('упрощает', 1), ('задачу', 1), ('ждет', 1), ('должно', 1), ('случится', 1), ('поменяется', 2), ('придется', 2), ('завтра', 2), ('станет', 1), ('ракета', 1), ('прилететь', 2), ('угодно', 1), ('зависит', 1), ('правительство', 1), ('влиять', 1), ('можем', 2), ('свои', 4), ('ход', 1), ('войны', 1), ('поменять', 1), ('нереально', 1), ('семья', 2), ('ясно', 1), ('таких', 2), ('простых', 1), ('вещах', 1), ('скажи', 1), ('неделю', 1), ('едь', 2), ('решу', 1), ('скажите', 1), ('возникали', 1), ('ситуации', 1), ('оттягивал', 1), ('принятие', 1), ('решений', 1), ('последний', 1), ('откладывает', 1), ('критический', 1), ('ситуаций', 1), ('подождать', 1), ('хотела', 1), ('ссорились', 1), ('принимал', 1), ('позже', 1), ('напрягала', 1), ('случалось', 1), ('понимал', 1), ('поздно', 1), ('начал', 1), ('шевелится', 1), ('смешно', 1), ('смеяться', 1), ('вечно', 1), ('тянешь', 1), ('случай', 1), ('ждешь', 2), ('стороны', 1), ('заходила', 1), ('смотри', 1), ('влияет', 1), ('жду', 1), ('например', 1), ('купим', 1), ('билеты', 1), ('полетим', 1), ('куда-то', 1), ('отдых', 1), ('равно', 2), ('покупаем', 1), ('летим', 1), ('цена', 1), ('выше', 1), ('самолет', 1), ('поссоримся', 1), ('сто', 1), ('объясни', 1), ('понять', 2), ('жалко', 1), ('нервов', 1), ('спокойно', 1), ('вовремя', 2), ('понимание', 1), ('существует', 1), ('удачное', 1), ('пользоваться', 1), ('ситуацией', 1), ('взять', 1), ('нравиться', 1), ('наши', 2), ('отношения', 2), ('постоянном', 1), ('ожидании', 1), ('чуда', 1), ('легко', 1), ('представляли', 1), ('вашу', 1), ('отношений', 1), ('осталась', 1), ('намного', 1), ('оберегать', 1), ('наше', 1), ('партнерство', 1), ('представлять', 1), ('никаких', 2), ('нравятся', 1), ('такие', 1), ('штуки', 2), ('бесят', 1), ('повторение', 1), ('--', 2), ('давай', 1), ('такое', 2), ('впечатление', 1), ('хочет', 1), ('избавится', 1), ('напрягаю', 1), ('спрашиваю', 1), ('порядке', 1), ('переживания', 1), ('перекладываю', 1), ('стране', 1), ('раздирают', 1), ('части', 1), ('хорошего', 1), ('пусть', 1), ('мной', 1), ('хорошие', 1), ('вещи', 1), ('насколько', 1), ('плане', 1), ('накопления', 1), ('определенности', 1), ('рамках', 1), ('своей', 1), ('реальности', 1), ('полную', 1), ('определенность', 1), ('сама', 1), ('хозяин', 1), ('партнером', 1), ('каждая', 1), ('строит', 1), ('взаимоотношения', 1), ('единственного', 1), ('правильно', 2), ('тревожит', 1), ('неопределенность', 1), ('решениях', 1), ('внутри', 1), ('семьи', 1), ('отсутствие', 1), ('возможности', 1), ('договорится', 1), ('эмоции', 3), ('испытываете', 1), ('неопределенности', 1), ('смирилась', 1), ('затяжные', 1), ('напрягают', 1), ('точно', 1), ('бывают', 1), ('изначально', 1), ('плохо', 1), ('живу', 1), ('бомбой', 1), ('часовым', 1), ('механизмом', 1), ('предлагаю', 1), ('идей', 1), ('проживать', 1), ('сил', 1), ('отслеживаю', 1), ('приятно', 1), ('описать', 1), ('домашнее', 1), ('задание', 1), ('возможность', 1), ('эмоциях', 1), ('чувствуете', 1), ('возникать', 1), ('ситуация', 2), ('затягивать', 1), ('решением', 1), ('маленькая', 1), ('бытовая', 1), ('записывать', 1), ('дневник', 1), ('такая', 1), ('идея', 1), ('спасибо', 2), ('интересно', 1), ('определились', 1), ('первым', 1), ('заданием', 1), ('будем', 1), ('понимать', 1)])\n"
          ]
        }
      ],
      "source": [
        "#Tokenizating text, and creating a word frequency dictionary\n",
        "words = word_tokenize(text) \n",
        "\n",
        "freqTable={}\n",
        "   \n",
        "for word in words: \n",
        "    word = word.lower() \n",
        "    if word not in stopWords:\n",
        "        if word in freqTable: \n",
        "            freqTable[word] += 1\n",
        "        else: \n",
        "            freqTable[word] = 1\n",
        "print(freqTable.items())"
      ]
    },
    {
      "cell_type": "code",
      "execution_count": null,
      "metadata": {
        "colab": {
          "base_uri": "https://localhost:8080/"
        },
        "id": "zm4MENXKhypz",
        "outputId": "d0c48756-77c7-479c-ec49-3f4e95ca1b25"
      },
      "outputs": [
        {
          "output_type": "execute_result",
          "data": {
            "text/plain": [
              "{'А можно просто было все спокойно сделать вовремя, потому что есть понимание того что вовремя все таки существует, ну или более удачное время, типа чего не пользоваться ситуацией?': 50,\n",
              " 'А ракета может прилететь куда угодно или не прилететь.': 4,\n",
              " 'А теперь читаю про блекауты, теории заговора, считаю остаток бюджета и на сколько мне хватит денег при разных условиях жизни, думаю нужно ли пытаюсь выделить деньги на английский, мне постоянно прилетают дополнительные расходы.': 57,\n",
              " 'А я не хочу ехать одна, я хочу чтобы мы вдвоем поехали, потому что ну что  я там буду делать одна, мне реально надо чтобы мы или вместе были здесь или там.': 51,\n",
              " 'Блин я уже иногда думаю, а если бы мы не были вместе если мне не надо было бы постоянно ждать, где бы я уже была?': 29,\n",
              " 'Ведь мне нравилось жить в том потоке, что происходил.': 12,\n",
              " 'Вот что происходит с вами, когда вам не нужно никого ждать?': 30,\n",
              " 'Вот я жду например, что мы купим билеты и полетим куда-то на отдых, мы все равно покупаем и летим, но цена выше на этот самолет мы поссоримся сто раз, вот объясни в чем дело, я просто хочу понять.': 64,\n",
              " 'Где вы сейчас находитесь, в каких условиях живете, какие события происходят вокруг вас?': 13,\n",
              " 'Да я так и не смогла этот английский выучить сколько уже ходила на курсы.': 26,\n",
              " 'Давайте начнем понемногу разбираться.': 10,\n",
              " 'Деньги немного есть, ээээ ну там на пару месяцев хватит, но нужно искать работу.': 38,\n",
              " 'Здесь можно сказать, что тихо, но я не особо понимаю что происходит.': 19,\n",
              " 'И на правительство мы влиять не можем, только свои решения принимать, ход войны поменять нереально.': 37,\n",
              " 'Именно когда живешь в период от нуля до \"опять все хочется\" тут самое страшное.': 16,\n",
              " 'Каждый раз с ним говорю, а он говорит ну хочешь поезжай в киев, я потом приеду.': 14,\n",
              " 'Как вам такая идея?': 2,\n",
              " 'Как домашнее задание я хочу дать вам возможность разобраться в своих эмоциях, понять что вы чувствуете, каждый раз когда у вас будет возникать ситуация, где муж будет затягивать с решением, даже если это маленькая бытовая ситуация -- вам нужно будет записывать в дневник ситуацию и свои эмоции.': 78,\n",
              " 'Короче искать работу это мне вообще как настоящее испытание, ну и не думаю что без английского я кому-то нужна.': 49,\n",
              " 'Короче мне реально не понятно как вообще быть, я боюсь что-то снова начинать, потому что не понятно на долго или скоро закончится.': 52,\n",
              " 'Короче, типа он вообще не упрощает задачу, а как будто ждет, что что-то должно случится и что-то поменяется.': 36,\n",
              " 'Мне реально нравятся наши отношения, хотя такие штуки когда приходится ждать решения прям бесят.': 57,\n",
              " 'Мне реально часто везло, но прям про будущее я не думала.': 26,\n",
              " 'Мне словно приходится начинать все с нуля.': 14,\n",
              " 'Может конечно я свои переживания на него перекладываю, но блин в стране которую постоянно раздирают на части ничего хорошего ждать уже не приходится.': 37,\n",
              " 'Может я просто не понимаю что такое жить с партнером.': 35,\n",
              " 'Мы переехали из Киева на западную Украину.': 8,\n",
              " 'Наверно скорее всего нужно будет учить английский, вряд ли украинские компании сейчас смогут дать хорошую оплату, надо искать что-то онлайн, стабильное.': 47,\n",
              " 'Надеюсь, что наш разговор будет приятным и полезным.': 6,\n",
              " 'Не надо ждать коллективного решения, а сам тихо сделала и ни у кого не спрашиваешь.': 22,\n",
              " 'Не пойму нужно учится на новую специальность или попытаться найти работу менеджером, как раньше?': 29,\n",
              " 'Но если я вас правильно услышала, то больше всего вас тревожит именно неопределенность в решениях внутри семьи, отсутствие возможности договорится.': 28,\n",
              " 'Но и помощи от волонтеров больше есть и помощь с едой и вообще дома как то проще, здесь никого не знаю, но и знакомые если честно все уже разъехались и реально жизнь как с нуля.': 56,\n",
              " 'Но мы же семья, и мне не ясно чего мы не можем договориться о таких простых вещах, ну скажи типа нет я не хочу ехать или хочу, но через неделю.': 43,\n",
              " 'Но ничего же не поменяется.': 2,\n",
              " 'Но полную определенность я чувствую только когда я сама себе хозяин.': 10,\n",
              " 'Но самым большим испытанием для вас является то, что необходимо начать все с нуля.': 14,\n",
              " 'Но у меня накопилось достаточно много всего и мне просто хотелось поговорить о том, что сейчас происходит с моей жизнью, ну много чего, конечно, как и у всех, все таки война, переезды, куча всего короче.': 53,\n",
              " 'Ну даже если наладится то не скоро, рада что могла себе обеспечить эту финансовую подушку.': 15,\n",
              " 'Ну и если реально готовится к блекауту, то нужно сделать закупку продуктов на месяц, а если мы вернемся обратно?': 42,\n",
              " 'Ну и новую работу искать, ну и что я тут найду?': 17,\n",
              " 'Ну типа если бы я жила одна, мне не так сложно было бы.': 17,\n",
              " 'О: Я пытаюсь балансировать между личной ответственностью за свою собственную жизнь и умении договориться.': 20,\n",
              " 'О: Я реально хочу в Киев, мне там будет проще собраться с мыслями.': 41,\n",
              " 'Ольга, у нас с вами на сегодня назначена консультация.': 15,\n",
              " 'Ольга: Да, но даже не сам факт начала.': 12,\n",
              " 'Ольга: Добрый день, это моя первая консультация в жизни.': 29,\n",
              " 'Ольга: Ну он постоянно все на последний момент откладывает, но раньше не было таких критический ситуаций и я могла подождать или делать что я хотела а там уже как было, или мы ссорились ну понятно что потом он принимал решение и позже мне было уже проще я реально никого не напрягала, а там просто все случалось, при чем он всегда понимал что поздно начал шевелится, но мне было даже смешно.': 110,\n",
              " 'Ольга: Сейчас я чувствую себя относительно в безопасности.': 17,\n",
              " 'Ольга: ну вот в том и дело, что иногда я понимаю что если бы я осталась одна мне было бы намного проще, но я хочу быть вместе с мужем, оберегать наше партнерство.': 59,\n",
              " 'Ольга: ну если честно я уже не знаю, я типа как смирилась что ли с тем, что происходит.': 28,\n",
              " 'Ольга: спасибо, реально интересно чего я вообще чувствую иногда кажется что уже ничего.': 41,\n",
              " 'От нас ничего не зависит.': 1,\n",
              " 'Ощущение, что теряешь время, которого и так постоянно мало, и параллельно же ничего не улучшается, тебе еще наваливается сверху, и нужно разгребать все одновременно.': 35,\n",
              " 'Пока живем в бесплатном жилье, но тоже непонятно надолго это, вообще нужно ли возвращаться, в Киеве хотя бы есть дом, родные стены, ну и удобства все под рукой, но я боюсь ходить по улице вижу везде эти новости про растяжки, бомбы в молоке.': 66,\n",
              " 'Понимаете я уже несколько раз все теряла и начинала \"жизнь с этого нуля\".': 27,\n",
              " 'Потерять финансовую стабильность мне реально тяжело, ждать что что-то наладится, но ничего не наладится же.': 43,\n",
              " 'Потому что в постоянном ожидании чуда жить тоже не легко.': 18,\n",
              " 'Потому что мне жалко и нервов и денег.': 5,\n",
              " 'Поэтому мне кажется тут у меня что-то вроде иммунитета.': 24,\n",
              " 'Просто сейчас как будто это повторение -- поехали в киев, нет давай ждать, хочешь едь.': 52,\n",
              " 'Просто хотелось чтобы кто-то услышал, помог мне немного разобраться в себе.': 30,\n",
              " 'Психолог:  скажите а раньше у вас возникали ситуации, когда муж оттягивал принятие решений?': 22,\n",
              " 'Психолог: Давайте выделим вопросы, которые я услышала и продолжим работу.': 29,\n",
              " 'Психолог: Давайте начнем разбираться вместе?': 21,\n",
              " 'Психолог: Каждая семья строит свои взаимоотношения, нет единственного верного решения, как правильно.': 33,\n",
              " 'Психолог: Ольга, действительно сейчас многие проживают события к которым сложно быть готовым.': 29,\n",
              " 'Психолог: Расскажите а как вы представляли вашу жизнь без отношений?': 24,\n",
              " 'Психолог: Расскажите подробнее, я так понимаю у вас разные точки зрения на какую то ситуацию с мужем?': 37,\n",
              " 'Психолог: решение есть всегда, задайте себе вопрос: готовы ли брать ответственность за принятые решения на себя?': 24,\n",
              " 'Психолог: хорошо, тогда мы определились с первым заданием и будем понемногу начинать понимать себя, спасибо за встречу.': 24,\n",
              " 'Пусть даже со мной происходят только хорошие вещи, ну насколько это реально, ну вот даже в плане денег, все есть, понятно накопления на пару месяцев, и работу все равно придется искать, я реально хочу просто определенности, в рамках своей реальности.': 104,\n",
              " 'Расскажите какие эмоции вы испытываете от этой \"неопределенности\"?': 27,\n",
              " 'Расскажите о себе.': 7,\n",
              " 'Расскажите с каким запросом вы пришли на нашу первую встречу?': 15,\n",
              " 'С мужем тоже сложно, постоянно приходится принимать решения, а он как будто оттягивает, но я же тоже не могу все время все делать.': 45,\n",
              " 'Сейчас у вас нет основной работы для вас большой стресс искать новую, еще вы хотите вернуться в Киев, но не можете решить для себя стоит ли это сейчас делать, также вам хочется получить поддержку от мужа, но вы не можете получить той помощи на которую рассчитываете.': 61,\n",
              " 'Страх не с самой необходимости, я просто реально понимаю что если я еще раз все потеряю мне может просто не хотеться что-то делать снова.': 68,\n",
              " 'Так он мне просто говорит едь и все, а я потом что-то решу.': 32,\n",
              " 'Такое впечатление что он хочет от меня избавится, типа я что напрягаю его?': 14,\n",
              " 'Теряешь дом, нет людей рядом, начинаются долги, нет уверенности в своих силах, моложе не становишься, ну и вечная конкуренция потому что у людей еще есть запал, а тебе 35 и ты такой здрасьте, я хочу заявить о себе.': 42,\n",
              " 'Хотя какое оно стабильное, надо открывать свое дело в интернете, может делать магазин с доставкой?': 24,\n",
              " 'Хотя кому эти менеджеры нужны, ничего толком не работает, наверно повезло людям которые сохранили работу, прям как-то радостно за них.': 30,\n",
              " 'Я и с другой стороны заходила типа смотри ты ждешь, а это влияет на меня.': 28,\n",
              " 'Я могла потом ходить и  смеяться, типа ты же знаешь что ты вечно все тянешь, вот опять такой же случай, зачем ты ждешь.': 22,\n",
              " 'Я начинаю постоянно думать в какой именно момент я перестала контролировать свою жизнь?': 23,\n",
              " 'Я не особо понимаю что именно нужно говорить.': 28,\n",
              " 'Я реально не могу уже я даже иногда думаю ну может просто взять и самой себе жить, а  я не хочу жить одна, мне нравиться наши отношения если бы не это.': 86,\n",
              " 'Я реально уже думала что можно и начать инвестировать но блин, реально никогда не знаешь, теперь думаю что можно было и пол года назад параллельно с подушкой все делать, но так иногда радует что хоть стабильность в деньгах есть, я все таки смогла научиться управлять немного своими финансами.': 70,\n",
              " 'Я смотрю на свою дырявую финансовую подушку безопасности и судорожно понимаю что кроме всего прочего просто никакого верного решения нет.': 50,\n",
              " 'Я то понимаю что придется скорее всего просто жить вот так как оно есть, потому что завтра лучше не станет, и после завтра тоже.': 41,\n",
              " 'верно?': 1,\n",
              " 'и если бы муж помог мне и согласился бы на переезд уже было бы проще.': 13,\n",
              " 'или останемся тут?': 1,\n",
              " 'короче куда все это девать в итоге?': 19,\n",
              " 'меня эти затяжные штуки напрягают это точно, но вот так сказать что я чувствую?': 24,\n",
              " 'не хочу представлять, а если бы.': 14,\n",
              " 'ну короче, когда я спрашиваю все ли в порядке, он говорит все хорошо, но я не чувствую что все хорошо.': 16,\n",
              " 'ну нет никаких а если бы.': 3,\n",
              " 'я просто знаю что они бывают и мне уже изначально плохо я как будто живу с бомбой с часовым механизмом и даже не предлагаю никаких идей, не хочу снова все проживать, просто нет сил, а вот эмоции я уже  не отслеживаю просто не приятно, но так описать не могу.': 61,\n",
              " '\\ufeffПсихолог: Добрый день, меня зовут Ирина.': 16}"
            ]
          },
          "metadata": {},
          "execution_count": 62
        }
      ],
      "source": [
        "#Tokenizating text, and creating a dictionary with weight of each sentence\n",
        "sentences = sent_tokenize(text) \n",
        "sentence_weight = {} \n",
        "for sentence in sentences: \n",
        "    for word, freq in freqTable.items():\n",
        "        if word in sentence.lower(): \n",
        "            if sentence in sentence_weight:     \n",
        "                sentence_weight[sentence] += freq \n",
        "            else: \n",
        "                sentence_weight[sentence] = freq \n",
        "sentence_weight"
      ]
    },
    {
      "cell_type": "code",
      "execution_count": null,
      "metadata": {
        "colab": {
          "base_uri": "https://localhost:8080/"
        },
        "id": "Jj2mZkW4iFsa",
        "outputId": "52762a89-3662-4977-c8e2-0fb0c217b6a6"
      },
      "outputs": [
        {
          "output_type": "stream",
          "name": "stdout",
          "text": [
            "Введите количество предложений: 9\n",
            "1  Но у меня накопилось достаточно много всего и мне просто хотелось поговорить о том, что сейчас происходит с моей жизнью, ну много чего, конечно, как и у всех, все таки война, переезды, куча всего короче. \n",
            "\n",
            "2 Деньги немного есть, ээээ ну там на пару месяцев хватит, но нужно искать работу. \n",
            "\n",
            "3 Потерять финансовую стабильность мне реально тяжело, ждать что что-то наладится, но ничего не наладится же. \n",
            "\n",
            "4 Я реально уже думала что можно и начать инвестировать но блин, реально никогда не знаешь, теперь думаю что можно было и пол года назад параллельно с подушкой все делать, но так иногда радует что хоть стабильность в деньгах есть, я все таки смогла научиться управлять немного своими финансами. \n",
            "\n",
            "5 Наверно скорее всего нужно будет учить английский, вряд ли украинские компании сейчас смогут дать хорошую оплату, надо искать что-то онлайн, стабильное. \n",
            "\n",
            "6 Короче искать работу это мне вообще как настоящее испытание, ну и не думаю что без английского я кому-то нужна. \n",
            "\n",
            "7 Пока живем в бесплатном жилье, но тоже непонятно надолго это, вообще нужно ли возвращаться, в Киеве хотя бы есть дом, родные стены, ну и удобства все под рукой, но я боюсь ходить по улице вижу везде эти новости про растяжки, бомбы в молоке. \n",
            "\n",
            "8 Но и помощи от волонтеров больше есть и помощь с едой и вообще дома как то проще, здесь никого не знаю, но и знакомые если честно все уже разъехались и реально жизнь как с нуля. \n",
            "\n",
            "9 С мужем тоже сложно, постоянно приходится принимать решения, а он как будто оттягивает, но я же тоже не могу все время все делать. \n",
            "\n"
          ]
        }
      ],
      "source": [
        "sumValues = 0\n",
        "for sentence in sentence_weight: \n",
        "    sumValues += sentence_weight[sentence] \n",
        "\n",
        "average = int(sumValues / len(sentence_weight)) \n",
        "\n",
        "summary = '' \n",
        "counter=0\n",
        "n = int(input(\"Введите количество предложений: \"))\n",
        "for sentence in sentences: \n",
        "    if counter!=n:\n",
        "        if (sentence in sentence_weight) and (sentence_weight[sentence] > (1.1* average)): \n",
        "            summary += \" \" + sentence \n",
        "            counter+=1\n",
        "sentences_my = sent_tokenize(summary) \n",
        "sen_num_my = 0\n",
        "for sen in sentences_my:\n",
        "    sen_num_my+=1\n",
        "    print(sen_num_my,sen,\"\\n\")"
      ]
    },
    {
      "cell_type": "code",
      "execution_count": null,
      "metadata": {
        "id": "-K0WgYMUiZhD"
      },
      "outputs": [],
      "source": [
        ""
      ]
    }
  ],
  "metadata": {
    "colab": {
      "collapsed_sections": [],
      "name": "Test_Task_OliinykBohdan.ipynb",
      "provenance": []
    },
    "kernelspec": {
      "display_name": "Python 3",
      "name": "python3"
    },
    "language_info": {
      "name": "python"
    }
  },
  "nbformat": 4,
  "nbformat_minor": 0
}