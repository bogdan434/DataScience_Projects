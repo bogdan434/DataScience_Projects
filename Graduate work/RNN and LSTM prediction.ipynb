{
 "cells": [
  {
   "cell_type": "markdown",
   "metadata": {
    "tags": []
   },
   "source": [
    "# Recurrent Neural Network (RNN) and Long Short Term Memory (LSTM)"
   ]
  },
  {
   "cell_type": "markdown",
   "metadata": {},
   "source": [
    "## Importing Libraries"
   ]
  },
  {
   "cell_type": "code",
   "execution_count": 49,
   "metadata": {
    "execution": {
     "iopub.execute_input": "2021-11-16T13:38:06.402099Z",
     "iopub.status.busy": "2021-11-16T13:38:06.401761Z",
     "iopub.status.idle": "2021-11-16T13:38:13.007957Z",
     "shell.execute_reply": "2021-11-16T13:38:13.007309Z",
     "shell.execute_reply.started": "2021-11-16T13:38:06.402014Z"
    }
   },
   "outputs": [],
   "source": [
    "import numpy as np \n",
    "import pandas as pd \n",
    "import matplotlib.pyplot as plt \n",
    "import math\n",
    "from scipy import stats\n",
    "import statsmodels.api as sm\n",
    "import warnings\n",
    "from itertools import product\n",
    "from datetime import datetime\n",
    "warnings.filterwarnings('ignore')\n",
    "plt.style.use('seaborn-poster')\n",
    "from keras.models import Sequential\n",
    "from keras.layers import Dense\n",
    "from keras.layers import LSTM\n",
    "from sklearn.preprocessing import MinMaxScaler\n",
    "from sklearn.metrics import mean_squared_error\n",
    "import tensorflow as tf \n",
    "\n",
    "import warnings\n",
    "warnings.filterwarnings(\"ignore\")"
   ]
  },
  {
   "cell_type": "markdown",
   "metadata": {},
   "source": [
    "## Loading Data"
   ]
  },
  {
   "cell_type": "code",
   "execution_count": 50,
   "metadata": {
    "execution": {
     "iopub.execute_input": "2021-11-16T13:38:13.009672Z",
     "iopub.status.busy": "2021-11-16T13:38:13.00932Z",
     "iopub.status.idle": "2021-11-16T13:38:21.778192Z",
     "shell.execute_reply": "2021-11-16T13:38:21.777242Z",
     "shell.execute_reply.started": "2021-11-16T13:38:13.009643Z"
    }
   },
   "outputs": [],
   "source": [
    "raw_data = pd.read_csv(\"bitstampUSD_1-min_data_2012-01-01_to_2021-03-31.csv\")"
   ]
  },
  {
   "cell_type": "code",
   "execution_count": 51,
   "metadata": {
    "execution": {
     "iopub.execute_input": "2021-11-16T13:38:21.7801Z",
     "iopub.status.busy": "2021-11-16T13:38:21.779723Z",
     "iopub.status.idle": "2021-11-16T13:38:21.811985Z",
     "shell.execute_reply": "2021-11-16T13:38:21.811147Z",
     "shell.execute_reply.started": "2021-11-16T13:38:21.78006Z"
    }
   },
   "outputs": [
    {
     "data": {
      "text/html": [
       "<div>\n",
       "<style scoped>\n",
       "    .dataframe tbody tr th:only-of-type {\n",
       "        vertical-align: middle;\n",
       "    }\n",
       "\n",
       "    .dataframe tbody tr th {\n",
       "        vertical-align: top;\n",
       "    }\n",
       "\n",
       "    .dataframe thead th {\n",
       "        text-align: right;\n",
       "    }\n",
       "</style>\n",
       "<table border=\"1\" class=\"dataframe\">\n",
       "  <thead>\n",
       "    <tr style=\"text-align: right;\">\n",
       "      <th></th>\n",
       "      <th>Timestamp</th>\n",
       "      <th>Open</th>\n",
       "      <th>High</th>\n",
       "      <th>Low</th>\n",
       "      <th>Close</th>\n",
       "      <th>Volume_(BTC)</th>\n",
       "      <th>Volume_(Currency)</th>\n",
       "      <th>Weighted_Price</th>\n",
       "    </tr>\n",
       "  </thead>\n",
       "  <tbody>\n",
       "    <tr>\n",
       "      <th>0</th>\n",
       "      <td>1325317920</td>\n",
       "      <td>4.39</td>\n",
       "      <td>4.39</td>\n",
       "      <td>4.39</td>\n",
       "      <td>4.39</td>\n",
       "      <td>0.455581</td>\n",
       "      <td>2.000000</td>\n",
       "      <td>4.390000</td>\n",
       "    </tr>\n",
       "    <tr>\n",
       "      <th>1</th>\n",
       "      <td>1325317980</td>\n",
       "      <td>NaN</td>\n",
       "      <td>NaN</td>\n",
       "      <td>NaN</td>\n",
       "      <td>NaN</td>\n",
       "      <td>NaN</td>\n",
       "      <td>NaN</td>\n",
       "      <td>NaN</td>\n",
       "    </tr>\n",
       "    <tr>\n",
       "      <th>2</th>\n",
       "      <td>1325318040</td>\n",
       "      <td>NaN</td>\n",
       "      <td>NaN</td>\n",
       "      <td>NaN</td>\n",
       "      <td>NaN</td>\n",
       "      <td>NaN</td>\n",
       "      <td>NaN</td>\n",
       "      <td>NaN</td>\n",
       "    </tr>\n",
       "    <tr>\n",
       "      <th>3</th>\n",
       "      <td>1325318100</td>\n",
       "      <td>NaN</td>\n",
       "      <td>NaN</td>\n",
       "      <td>NaN</td>\n",
       "      <td>NaN</td>\n",
       "      <td>NaN</td>\n",
       "      <td>NaN</td>\n",
       "      <td>NaN</td>\n",
       "    </tr>\n",
       "    <tr>\n",
       "      <th>4</th>\n",
       "      <td>1325318160</td>\n",
       "      <td>NaN</td>\n",
       "      <td>NaN</td>\n",
       "      <td>NaN</td>\n",
       "      <td>NaN</td>\n",
       "      <td>NaN</td>\n",
       "      <td>NaN</td>\n",
       "      <td>NaN</td>\n",
       "    </tr>\n",
       "    <tr>\n",
       "      <th>...</th>\n",
       "      <td>...</td>\n",
       "      <td>...</td>\n",
       "      <td>...</td>\n",
       "      <td>...</td>\n",
       "      <td>...</td>\n",
       "      <td>...</td>\n",
       "      <td>...</td>\n",
       "      <td>...</td>\n",
       "    </tr>\n",
       "    <tr>\n",
       "      <th>4857372</th>\n",
       "      <td>1617148560</td>\n",
       "      <td>58714.31</td>\n",
       "      <td>58714.31</td>\n",
       "      <td>58686.00</td>\n",
       "      <td>58686.00</td>\n",
       "      <td>1.384487</td>\n",
       "      <td>81259.372187</td>\n",
       "      <td>58692.753339</td>\n",
       "    </tr>\n",
       "    <tr>\n",
       "      <th>4857373</th>\n",
       "      <td>1617148620</td>\n",
       "      <td>58683.97</td>\n",
       "      <td>58693.43</td>\n",
       "      <td>58683.97</td>\n",
       "      <td>58685.81</td>\n",
       "      <td>7.294848</td>\n",
       "      <td>428158.146640</td>\n",
       "      <td>58693.226508</td>\n",
       "    </tr>\n",
       "    <tr>\n",
       "      <th>4857374</th>\n",
       "      <td>1617148680</td>\n",
       "      <td>58693.43</td>\n",
       "      <td>58723.84</td>\n",
       "      <td>58693.43</td>\n",
       "      <td>58723.84</td>\n",
       "      <td>1.705682</td>\n",
       "      <td>100117.070370</td>\n",
       "      <td>58696.198496</td>\n",
       "    </tr>\n",
       "    <tr>\n",
       "      <th>4857375</th>\n",
       "      <td>1617148740</td>\n",
       "      <td>58742.18</td>\n",
       "      <td>58770.38</td>\n",
       "      <td>58742.18</td>\n",
       "      <td>58760.59</td>\n",
       "      <td>0.720415</td>\n",
       "      <td>42332.958633</td>\n",
       "      <td>58761.866202</td>\n",
       "    </tr>\n",
       "    <tr>\n",
       "      <th>4857376</th>\n",
       "      <td>1617148800</td>\n",
       "      <td>58767.75</td>\n",
       "      <td>58778.18</td>\n",
       "      <td>58755.97</td>\n",
       "      <td>58778.18</td>\n",
       "      <td>2.712831</td>\n",
       "      <td>159417.751000</td>\n",
       "      <td>58764.349363</td>\n",
       "    </tr>\n",
       "  </tbody>\n",
       "</table>\n",
       "<p>4857377 rows × 8 columns</p>\n",
       "</div>"
      ],
      "text/plain": [
       "          Timestamp      Open      High       Low     Close  Volume_(BTC)  \\\n",
       "0        1325317920      4.39      4.39      4.39      4.39      0.455581   \n",
       "1        1325317980       NaN       NaN       NaN       NaN           NaN   \n",
       "2        1325318040       NaN       NaN       NaN       NaN           NaN   \n",
       "3        1325318100       NaN       NaN       NaN       NaN           NaN   \n",
       "4        1325318160       NaN       NaN       NaN       NaN           NaN   \n",
       "...             ...       ...       ...       ...       ...           ...   \n",
       "4857372  1617148560  58714.31  58714.31  58686.00  58686.00      1.384487   \n",
       "4857373  1617148620  58683.97  58693.43  58683.97  58685.81      7.294848   \n",
       "4857374  1617148680  58693.43  58723.84  58693.43  58723.84      1.705682   \n",
       "4857375  1617148740  58742.18  58770.38  58742.18  58760.59      0.720415   \n",
       "4857376  1617148800  58767.75  58778.18  58755.97  58778.18      2.712831   \n",
       "\n",
       "         Volume_(Currency)  Weighted_Price  \n",
       "0                 2.000000        4.390000  \n",
       "1                      NaN             NaN  \n",
       "2                      NaN             NaN  \n",
       "3                      NaN             NaN  \n",
       "4                      NaN             NaN  \n",
       "...                    ...             ...  \n",
       "4857372       81259.372187    58692.753339  \n",
       "4857373      428158.146640    58693.226508  \n",
       "4857374      100117.070370    58696.198496  \n",
       "4857375       42332.958633    58761.866202  \n",
       "4857376      159417.751000    58764.349363  \n",
       "\n",
       "[4857377 rows x 8 columns]"
      ]
     },
     "execution_count": 51,
     "metadata": {},
     "output_type": "execute_result"
    }
   ],
   "source": [
    "raw_data"
   ]
  },
  {
   "cell_type": "markdown",
   "metadata": {},
   "source": [
    "## Data Preparation"
   ]
  },
  {
   "cell_type": "code",
   "execution_count": 52,
   "metadata": {
    "execution": {
     "iopub.execute_input": "2021-11-16T13:38:21.814189Z",
     "iopub.status.busy": "2021-11-16T13:38:21.813964Z",
     "iopub.status.idle": "2021-11-16T13:38:21.835333Z",
     "shell.execute_reply": "2021-11-16T13:38:21.834312Z",
     "shell.execute_reply.started": "2021-11-16T13:38:21.814161Z"
    }
   },
   "outputs": [
    {
     "name": "stdout",
     "output_type": "stream",
     "text": [
      "<class 'pandas.core.frame.DataFrame'>\n",
      "RangeIndex: 4857377 entries, 0 to 4857376\n",
      "Data columns (total 8 columns):\n",
      " #   Column             Dtype  \n",
      "---  ------             -----  \n",
      " 0   Timestamp          int64  \n",
      " 1   Open               float64\n",
      " 2   High               float64\n",
      " 3   Low                float64\n",
      " 4   Close              float64\n",
      " 5   Volume_(BTC)       float64\n",
      " 6   Volume_(Currency)  float64\n",
      " 7   Weighted_Price     float64\n",
      "dtypes: float64(7), int64(1)\n",
      "memory usage: 296.5 MB\n"
     ]
    }
   ],
   "source": [
    "raw_data.info()"
   ]
  },
  {
   "cell_type": "code",
   "execution_count": 53,
   "metadata": {
    "execution": {
     "iopub.execute_input": "2021-11-16T13:38:21.836644Z",
     "iopub.status.busy": "2021-11-16T13:38:21.836402Z",
     "iopub.status.idle": "2021-11-16T13:38:21.848939Z",
     "shell.execute_reply": "2021-11-16T13:38:21.848159Z",
     "shell.execute_reply.started": "2021-11-16T13:38:21.836616Z"
    }
   },
   "outputs": [
    {
     "data": {
      "text/plain": [
       "(4857377, 8)"
      ]
     },
     "execution_count": 53,
     "metadata": {},
     "output_type": "execute_result"
    }
   ],
   "source": [
    "raw_data.shape"
   ]
  },
  {
   "cell_type": "code",
   "execution_count": 54,
   "metadata": {
    "execution": {
     "iopub.execute_input": "2021-11-16T13:38:21.850279Z",
     "iopub.status.busy": "2021-11-16T13:38:21.85004Z",
     "iopub.status.idle": "2021-11-16T13:38:21.943262Z",
     "shell.execute_reply": "2021-11-16T13:38:21.942317Z",
     "shell.execute_reply.started": "2021-11-16T13:38:21.85024Z"
    }
   },
   "outputs": [
    {
     "data": {
      "text/plain": [
       "Timestamp                  0\n",
       "Open                 1243608\n",
       "High                 1243608\n",
       "Low                  1243608\n",
       "Close                1243608\n",
       "Volume_(BTC)         1243608\n",
       "Volume_(Currency)    1243608\n",
       "Weighted_Price       1243608\n",
       "dtype: int64"
      ]
     },
     "execution_count": 54,
     "metadata": {},
     "output_type": "execute_result"
    }
   ],
   "source": [
    "raw_data.isna().sum()"
   ]
  },
  {
   "cell_type": "code",
   "execution_count": 55,
   "metadata": {
    "execution": {
     "iopub.execute_input": "2021-11-16T13:38:21.944601Z",
     "iopub.status.busy": "2021-11-16T13:38:21.944385Z",
     "iopub.status.idle": "2021-11-16T13:38:21.948044Z",
     "shell.execute_reply": "2021-11-16T13:38:21.94747Z",
     "shell.execute_reply.started": "2021-11-16T13:38:21.944575Z"
    }
   },
   "outputs": [],
   "source": [
    "# Except for the time_step column, we delete these rows because the other columns are NAN."
   ]
  },
  {
   "cell_type": "code",
   "execution_count": 56,
   "metadata": {
    "execution": {
     "iopub.execute_input": "2021-11-16T13:38:21.949688Z",
     "iopub.status.busy": "2021-11-16T13:38:21.949155Z",
     "iopub.status.idle": "2021-11-16T13:38:22.295603Z",
     "shell.execute_reply": "2021-11-16T13:38:22.294809Z",
     "shell.execute_reply.started": "2021-11-16T13:38:21.949652Z"
    }
   },
   "outputs": [],
   "source": [
    "raw_data = raw_data.dropna()"
   ]
  },
  {
   "cell_type": "code",
   "execution_count": 57,
   "metadata": {
    "execution": {
     "iopub.execute_input": "2021-11-16T13:38:22.297112Z",
     "iopub.status.busy": "2021-11-16T13:38:22.296863Z",
     "iopub.status.idle": "2021-11-16T13:38:22.363593Z",
     "shell.execute_reply": "2021-11-16T13:38:22.362715Z",
     "shell.execute_reply.started": "2021-11-16T13:38:22.297084Z"
    }
   },
   "outputs": [
    {
     "data": {
      "text/plain": [
       "Timestamp            0\n",
       "Open                 0\n",
       "High                 0\n",
       "Low                  0\n",
       "Close                0\n",
       "Volume_(BTC)         0\n",
       "Volume_(Currency)    0\n",
       "Weighted_Price       0\n",
       "dtype: int64"
      ]
     },
     "execution_count": 57,
     "metadata": {},
     "output_type": "execute_result"
    }
   ],
   "source": [
    "raw_data.isna().sum()"
   ]
  },
  {
   "cell_type": "code",
   "execution_count": 58,
   "metadata": {
    "execution": {
     "iopub.execute_input": "2021-11-16T13:38:22.366524Z",
     "iopub.status.busy": "2021-11-16T13:38:22.366196Z",
     "iopub.status.idle": "2021-11-16T13:38:24.338126Z",
     "shell.execute_reply": "2021-11-16T13:38:24.337302Z",
     "shell.execute_reply.started": "2021-11-16T13:38:22.366491Z"
    }
   },
   "outputs": [
    {
     "data": {
      "text/html": [
       "<div>\n",
       "<style scoped>\n",
       "    .dataframe tbody tr th:only-of-type {\n",
       "        vertical-align: middle;\n",
       "    }\n",
       "\n",
       "    .dataframe tbody tr th {\n",
       "        vertical-align: top;\n",
       "    }\n",
       "\n",
       "    .dataframe thead th {\n",
       "        text-align: right;\n",
       "    }\n",
       "</style>\n",
       "<table border=\"1\" class=\"dataframe\">\n",
       "  <thead>\n",
       "    <tr style=\"text-align: right;\">\n",
       "      <th></th>\n",
       "      <th>Timestamp</th>\n",
       "      <th>Open</th>\n",
       "      <th>High</th>\n",
       "      <th>Low</th>\n",
       "      <th>Close</th>\n",
       "      <th>Volume_(BTC)</th>\n",
       "      <th>Volume_(Currency)</th>\n",
       "      <th>Weighted_Price</th>\n",
       "      <th>date</th>\n",
       "    </tr>\n",
       "  </thead>\n",
       "  <tbody>\n",
       "    <tr>\n",
       "      <th>0</th>\n",
       "      <td>1325317920</td>\n",
       "      <td>4.39</td>\n",
       "      <td>4.39</td>\n",
       "      <td>4.39</td>\n",
       "      <td>4.39</td>\n",
       "      <td>0.455581</td>\n",
       "      <td>2.000000</td>\n",
       "      <td>4.390000</td>\n",
       "      <td>2011-12-31</td>\n",
       "    </tr>\n",
       "    <tr>\n",
       "      <th>478</th>\n",
       "      <td>1325346600</td>\n",
       "      <td>4.39</td>\n",
       "      <td>4.39</td>\n",
       "      <td>4.39</td>\n",
       "      <td>4.39</td>\n",
       "      <td>48.000000</td>\n",
       "      <td>210.720000</td>\n",
       "      <td>4.390000</td>\n",
       "      <td>2011-12-31</td>\n",
       "    </tr>\n",
       "    <tr>\n",
       "      <th>547</th>\n",
       "      <td>1325350740</td>\n",
       "      <td>4.50</td>\n",
       "      <td>4.57</td>\n",
       "      <td>4.50</td>\n",
       "      <td>4.57</td>\n",
       "      <td>37.862297</td>\n",
       "      <td>171.380338</td>\n",
       "      <td>4.526411</td>\n",
       "      <td>2011-12-31</td>\n",
       "    </tr>\n",
       "    <tr>\n",
       "      <th>548</th>\n",
       "      <td>1325350800</td>\n",
       "      <td>4.58</td>\n",
       "      <td>4.58</td>\n",
       "      <td>4.58</td>\n",
       "      <td>4.58</td>\n",
       "      <td>9.000000</td>\n",
       "      <td>41.220000</td>\n",
       "      <td>4.580000</td>\n",
       "      <td>2011-12-31</td>\n",
       "    </tr>\n",
       "    <tr>\n",
       "      <th>1224</th>\n",
       "      <td>1325391360</td>\n",
       "      <td>4.58</td>\n",
       "      <td>4.58</td>\n",
       "      <td>4.58</td>\n",
       "      <td>4.58</td>\n",
       "      <td>1.502000</td>\n",
       "      <td>6.879160</td>\n",
       "      <td>4.580000</td>\n",
       "      <td>2012-01-01</td>\n",
       "    </tr>\n",
       "    <tr>\n",
       "      <th>...</th>\n",
       "      <td>...</td>\n",
       "      <td>...</td>\n",
       "      <td>...</td>\n",
       "      <td>...</td>\n",
       "      <td>...</td>\n",
       "      <td>...</td>\n",
       "      <td>...</td>\n",
       "      <td>...</td>\n",
       "      <td>...</td>\n",
       "    </tr>\n",
       "    <tr>\n",
       "      <th>4857372</th>\n",
       "      <td>1617148560</td>\n",
       "      <td>58714.31</td>\n",
       "      <td>58714.31</td>\n",
       "      <td>58686.00</td>\n",
       "      <td>58686.00</td>\n",
       "      <td>1.384487</td>\n",
       "      <td>81259.372187</td>\n",
       "      <td>58692.753339</td>\n",
       "      <td>2021-03-30</td>\n",
       "    </tr>\n",
       "    <tr>\n",
       "      <th>4857373</th>\n",
       "      <td>1617148620</td>\n",
       "      <td>58683.97</td>\n",
       "      <td>58693.43</td>\n",
       "      <td>58683.97</td>\n",
       "      <td>58685.81</td>\n",
       "      <td>7.294848</td>\n",
       "      <td>428158.146640</td>\n",
       "      <td>58693.226508</td>\n",
       "      <td>2021-03-30</td>\n",
       "    </tr>\n",
       "    <tr>\n",
       "      <th>4857374</th>\n",
       "      <td>1617148680</td>\n",
       "      <td>58693.43</td>\n",
       "      <td>58723.84</td>\n",
       "      <td>58693.43</td>\n",
       "      <td>58723.84</td>\n",
       "      <td>1.705682</td>\n",
       "      <td>100117.070370</td>\n",
       "      <td>58696.198496</td>\n",
       "      <td>2021-03-30</td>\n",
       "    </tr>\n",
       "    <tr>\n",
       "      <th>4857375</th>\n",
       "      <td>1617148740</td>\n",
       "      <td>58742.18</td>\n",
       "      <td>58770.38</td>\n",
       "      <td>58742.18</td>\n",
       "      <td>58760.59</td>\n",
       "      <td>0.720415</td>\n",
       "      <td>42332.958633</td>\n",
       "      <td>58761.866202</td>\n",
       "      <td>2021-03-30</td>\n",
       "    </tr>\n",
       "    <tr>\n",
       "      <th>4857376</th>\n",
       "      <td>1617148800</td>\n",
       "      <td>58767.75</td>\n",
       "      <td>58778.18</td>\n",
       "      <td>58755.97</td>\n",
       "      <td>58778.18</td>\n",
       "      <td>2.712831</td>\n",
       "      <td>159417.751000</td>\n",
       "      <td>58764.349363</td>\n",
       "      <td>2021-03-31</td>\n",
       "    </tr>\n",
       "  </tbody>\n",
       "</table>\n",
       "<p>3613769 rows × 9 columns</p>\n",
       "</div>"
      ],
      "text/plain": [
       "          Timestamp      Open      High       Low     Close  Volume_(BTC)  \\\n",
       "0        1325317920      4.39      4.39      4.39      4.39      0.455581   \n",
       "478      1325346600      4.39      4.39      4.39      4.39     48.000000   \n",
       "547      1325350740      4.50      4.57      4.50      4.57     37.862297   \n",
       "548      1325350800      4.58      4.58      4.58      4.58      9.000000   \n",
       "1224     1325391360      4.58      4.58      4.58      4.58      1.502000   \n",
       "...             ...       ...       ...       ...       ...           ...   \n",
       "4857372  1617148560  58714.31  58714.31  58686.00  58686.00      1.384487   \n",
       "4857373  1617148620  58683.97  58693.43  58683.97  58685.81      7.294848   \n",
       "4857374  1617148680  58693.43  58723.84  58693.43  58723.84      1.705682   \n",
       "4857375  1617148740  58742.18  58770.38  58742.18  58760.59      0.720415   \n",
       "4857376  1617148800  58767.75  58778.18  58755.97  58778.18      2.712831   \n",
       "\n",
       "         Volume_(Currency)  Weighted_Price        date  \n",
       "0                 2.000000        4.390000  2011-12-31  \n",
       "478             210.720000        4.390000  2011-12-31  \n",
       "547             171.380338        4.526411  2011-12-31  \n",
       "548              41.220000        4.580000  2011-12-31  \n",
       "1224              6.879160        4.580000  2012-01-01  \n",
       "...                    ...             ...         ...  \n",
       "4857372       81259.372187    58692.753339  2021-03-30  \n",
       "4857373      428158.146640    58693.226508  2021-03-30  \n",
       "4857374      100117.070370    58696.198496  2021-03-30  \n",
       "4857375       42332.958633    58761.866202  2021-03-30  \n",
       "4857376      159417.751000    58764.349363  2021-03-31  \n",
       "\n",
       "[3613769 rows x 9 columns]"
      ]
     },
     "execution_count": 58,
     "metadata": {},
     "output_type": "execute_result"
    }
   ],
   "source": [
    "raw_data['date'] = pd.to_datetime(raw_data['Timestamp'],unit='s').dt.date\n",
    "raw_data"
   ]
  },
  {
   "cell_type": "code",
   "execution_count": 59,
   "metadata": {
    "execution": {
     "iopub.execute_input": "2021-11-16T13:38:24.339641Z",
     "iopub.status.busy": "2021-11-16T13:38:24.339417Z",
     "iopub.status.idle": "2021-11-16T13:38:24.350539Z",
     "shell.execute_reply": "2021-11-16T13:38:24.349724Z",
     "shell.execute_reply.started": "2021-11-16T13:38:24.339612Z"
    }
   },
   "outputs": [
    {
     "name": "stdout",
     "output_type": "stream",
     "text": [
      "<class 'pandas.core.frame.DataFrame'>\n",
      "Int64Index: 3613769 entries, 0 to 4857376\n",
      "Data columns (total 9 columns):\n",
      " #   Column             Dtype  \n",
      "---  ------             -----  \n",
      " 0   Timestamp          int64  \n",
      " 1   Open               float64\n",
      " 2   High               float64\n",
      " 3   Low                float64\n",
      " 4   Close              float64\n",
      " 5   Volume_(BTC)       float64\n",
      " 6   Volume_(Currency)  float64\n",
      " 7   Weighted_Price     float64\n",
      " 8   date               object \n",
      "dtypes: float64(7), int64(1), object(1)\n",
      "memory usage: 275.7+ MB\n"
     ]
    }
   ],
   "source": [
    "raw_data.info()"
   ]
  },
  {
   "cell_type": "code",
   "execution_count": 60,
   "metadata": {
    "execution": {
     "iopub.execute_input": "2021-11-16T13:38:24.352294Z",
     "iopub.status.busy": "2021-11-16T13:38:24.352046Z",
     "iopub.status.idle": "2021-11-16T13:38:25.347082Z",
     "shell.execute_reply": "2021-11-16T13:38:25.346206Z",
     "shell.execute_reply.started": "2021-11-16T13:38:24.352265Z"
    }
   },
   "outputs": [
    {
     "data": {
      "text/html": [
       "<div>\n",
       "<style scoped>\n",
       "    .dataframe tbody tr th:only-of-type {\n",
       "        vertical-align: middle;\n",
       "    }\n",
       "\n",
       "    .dataframe tbody tr th {\n",
       "        vertical-align: top;\n",
       "    }\n",
       "\n",
       "    .dataframe thead th {\n",
       "        text-align: right;\n",
       "    }\n",
       "</style>\n",
       "<table border=\"1\" class=\"dataframe\">\n",
       "  <thead>\n",
       "    <tr style=\"text-align: right;\">\n",
       "      <th></th>\n",
       "      <th>date</th>\n",
       "      <th>Timestamp</th>\n",
       "      <th>Open</th>\n",
       "      <th>High</th>\n",
       "      <th>Low</th>\n",
       "      <th>Close</th>\n",
       "      <th>Volume_(BTC)</th>\n",
       "      <th>Volume_(Currency)</th>\n",
       "      <th>Weighted_Price</th>\n",
       "    </tr>\n",
       "  </thead>\n",
       "  <tbody>\n",
       "    <tr>\n",
       "      <th>0</th>\n",
       "      <td>2011-12-31</td>\n",
       "      <td>1.325342e+09</td>\n",
       "      <td>4.465000</td>\n",
       "      <td>4.482500</td>\n",
       "      <td>4.465000</td>\n",
       "      <td>4.482500</td>\n",
       "      <td>23.829470</td>\n",
       "      <td>106.330084</td>\n",
       "      <td>4.471603</td>\n",
       "    </tr>\n",
       "    <tr>\n",
       "      <th>1</th>\n",
       "      <td>2012-01-01</td>\n",
       "      <td>1.325427e+09</td>\n",
       "      <td>4.806667</td>\n",
       "      <td>4.806667</td>\n",
       "      <td>4.806667</td>\n",
       "      <td>4.806667</td>\n",
       "      <td>7.200667</td>\n",
       "      <td>35.259720</td>\n",
       "      <td>4.806667</td>\n",
       "    </tr>\n",
       "    <tr>\n",
       "      <th>2</th>\n",
       "      <td>2012-01-02</td>\n",
       "      <td>1.325535e+09</td>\n",
       "      <td>5.000000</td>\n",
       "      <td>5.000000</td>\n",
       "      <td>5.000000</td>\n",
       "      <td>5.000000</td>\n",
       "      <td>19.048000</td>\n",
       "      <td>95.240000</td>\n",
       "      <td>5.000000</td>\n",
       "    </tr>\n",
       "    <tr>\n",
       "      <th>3</th>\n",
       "      <td>2012-01-03</td>\n",
       "      <td>1.325605e+09</td>\n",
       "      <td>5.252500</td>\n",
       "      <td>5.252500</td>\n",
       "      <td>5.252500</td>\n",
       "      <td>5.252500</td>\n",
       "      <td>11.004660</td>\n",
       "      <td>58.100651</td>\n",
       "      <td>5.252500</td>\n",
       "    </tr>\n",
       "    <tr>\n",
       "      <th>4</th>\n",
       "      <td>2012-01-04</td>\n",
       "      <td>1.325682e+09</td>\n",
       "      <td>5.200000</td>\n",
       "      <td>5.223333</td>\n",
       "      <td>5.200000</td>\n",
       "      <td>5.223333</td>\n",
       "      <td>11.914807</td>\n",
       "      <td>63.119577</td>\n",
       "      <td>5.208159</td>\n",
       "    </tr>\n",
       "    <tr>\n",
       "      <th>...</th>\n",
       "      <td>...</td>\n",
       "      <td>...</td>\n",
       "      <td>...</td>\n",
       "      <td>...</td>\n",
       "      <td>...</td>\n",
       "      <td>...</td>\n",
       "      <td>...</td>\n",
       "      <td>...</td>\n",
       "      <td>...</td>\n",
       "    </tr>\n",
       "    <tr>\n",
       "      <th>3371</th>\n",
       "      <td>2021-03-27</td>\n",
       "      <td>1.616846e+09</td>\n",
       "      <td>55193.240643</td>\n",
       "      <td>55219.665031</td>\n",
       "      <td>55168.757372</td>\n",
       "      <td>55195.415367</td>\n",
       "      <td>1.823877</td>\n",
       "      <td>100884.732367</td>\n",
       "      <td>55193.357260</td>\n",
       "    </tr>\n",
       "    <tr>\n",
       "      <th>3372</th>\n",
       "      <td>2021-03-28</td>\n",
       "      <td>1.616933e+09</td>\n",
       "      <td>55833.608471</td>\n",
       "      <td>55857.735342</td>\n",
       "      <td>55810.425126</td>\n",
       "      <td>55835.012863</td>\n",
       "      <td>1.447939</td>\n",
       "      <td>80632.115263</td>\n",
       "      <td>55832.958824</td>\n",
       "    </tr>\n",
       "    <tr>\n",
       "      <th>3373</th>\n",
       "      <td>2021-03-29</td>\n",
       "      <td>1.617019e+09</td>\n",
       "      <td>56914.886595</td>\n",
       "      <td>56946.213593</td>\n",
       "      <td>56885.242967</td>\n",
       "      <td>56915.629993</td>\n",
       "      <td>3.732887</td>\n",
       "      <td>213754.555988</td>\n",
       "      <td>56913.993819</td>\n",
       "    </tr>\n",
       "    <tr>\n",
       "      <th>3374</th>\n",
       "      <td>2021-03-30</td>\n",
       "      <td>1.617106e+09</td>\n",
       "      <td>58347.805624</td>\n",
       "      <td>58371.955310</td>\n",
       "      <td>58323.956690</td>\n",
       "      <td>58349.357087</td>\n",
       "      <td>2.363999</td>\n",
       "      <td>138231.241926</td>\n",
       "      <td>58346.912268</td>\n",
       "    </tr>\n",
       "    <tr>\n",
       "      <th>3375</th>\n",
       "      <td>2021-03-31</td>\n",
       "      <td>1.617149e+09</td>\n",
       "      <td>58767.750000</td>\n",
       "      <td>58778.180000</td>\n",
       "      <td>58755.970000</td>\n",
       "      <td>58778.180000</td>\n",
       "      <td>2.712831</td>\n",
       "      <td>159417.751000</td>\n",
       "      <td>58764.349363</td>\n",
       "    </tr>\n",
       "  </tbody>\n",
       "</table>\n",
       "<p>3376 rows × 9 columns</p>\n",
       "</div>"
      ],
      "text/plain": [
       "            date     Timestamp          Open          High           Low  \\\n",
       "0     2011-12-31  1.325342e+09      4.465000      4.482500      4.465000   \n",
       "1     2012-01-01  1.325427e+09      4.806667      4.806667      4.806667   \n",
       "2     2012-01-02  1.325535e+09      5.000000      5.000000      5.000000   \n",
       "3     2012-01-03  1.325605e+09      5.252500      5.252500      5.252500   \n",
       "4     2012-01-04  1.325682e+09      5.200000      5.223333      5.200000   \n",
       "...          ...           ...           ...           ...           ...   \n",
       "3371  2021-03-27  1.616846e+09  55193.240643  55219.665031  55168.757372   \n",
       "3372  2021-03-28  1.616933e+09  55833.608471  55857.735342  55810.425126   \n",
       "3373  2021-03-29  1.617019e+09  56914.886595  56946.213593  56885.242967   \n",
       "3374  2021-03-30  1.617106e+09  58347.805624  58371.955310  58323.956690   \n",
       "3375  2021-03-31  1.617149e+09  58767.750000  58778.180000  58755.970000   \n",
       "\n",
       "             Close  Volume_(BTC)  Volume_(Currency)  Weighted_Price  \n",
       "0         4.482500     23.829470         106.330084        4.471603  \n",
       "1         4.806667      7.200667          35.259720        4.806667  \n",
       "2         5.000000     19.048000          95.240000        5.000000  \n",
       "3         5.252500     11.004660          58.100651        5.252500  \n",
       "4         5.223333     11.914807          63.119577        5.208159  \n",
       "...            ...           ...                ...             ...  \n",
       "3371  55195.415367      1.823877      100884.732367    55193.357260  \n",
       "3372  55835.012863      1.447939       80632.115263    55832.958824  \n",
       "3373  56915.629993      3.732887      213754.555988    56913.993819  \n",
       "3374  58349.357087      2.363999      138231.241926    58346.912268  \n",
       "3375  58778.180000      2.712831      159417.751000    58764.349363  \n",
       "\n",
       "[3376 rows x 9 columns]"
      ]
     },
     "execution_count": 60,
     "metadata": {},
     "output_type": "execute_result"
    }
   ],
   "source": [
    "grouped_data = raw_data.groupby('date', as_index = False).mean()\n",
    "grouped_data"
   ]
  },
  {
   "cell_type": "markdown",
   "metadata": {},
   "source": [
    "## Train and Test Split"
   ]
  },
  {
   "cell_type": "code",
   "execution_count": 61,
   "metadata": {
    "execution": {
     "iopub.execute_input": "2021-11-16T13:38:25.348782Z",
     "iopub.status.busy": "2021-11-16T13:38:25.34855Z",
     "iopub.status.idle": "2021-11-16T13:38:25.353153Z",
     "shell.execute_reply": "2021-11-16T13:38:25.352068Z",
     "shell.execute_reply.started": "2021-11-16T13:38:25.348752Z"
    }
   },
   "outputs": [],
   "source": [
    "# We divide the data by Training %95, Test %5 "
   ]
  },
  {
   "cell_type": "code",
   "execution_count": 62,
   "metadata": {
    "execution": {
     "iopub.execute_input": "2021-11-16T13:38:25.35469Z",
     "iopub.status.busy": "2021-11-16T13:38:25.354467Z",
     "iopub.status.idle": "2021-11-16T13:38:25.365521Z",
     "shell.execute_reply": "2021-11-16T13:38:25.364643Z",
     "shell.execute_reply.started": "2021-11-16T13:38:25.354662Z"
    },
    "tags": []
   },
   "outputs": [
    {
     "name": "stdout",
     "output_type": "stream",
     "text": [
      "Train size: 3207, Test size: 169\n"
     ]
    }
   ],
   "source": [
    "train_size = int(len(grouped_data) * 0.95)\n",
    "test_size = len(grouped_data) - train_size\n",
    "df_train = grouped_data.iloc[0:train_size, :]\n",
    "df_test = grouped_data.iloc[train_size:len(grouped_data), :]\n",
    "print(\"Train size: {}, Test size: {}\". format(len(df_train), len(df_test)))"
   ]
  },
  {
   "cell_type": "code",
   "execution_count": 63,
   "metadata": {
    "execution": {
     "iopub.execute_input": "2021-11-16T13:38:25.366961Z",
     "iopub.status.busy": "2021-11-16T13:38:25.366742Z",
     "iopub.status.idle": "2021-11-16T13:38:25.39193Z",
     "shell.execute_reply": "2021-11-16T13:38:25.391011Z",
     "shell.execute_reply.started": "2021-11-16T13:38:25.366933Z"
    },
    "tags": []
   },
   "outputs": [
    {
     "data": {
      "text/html": [
       "<div>\n",
       "<style scoped>\n",
       "    .dataframe tbody tr th:only-of-type {\n",
       "        vertical-align: middle;\n",
       "    }\n",
       "\n",
       "    .dataframe tbody tr th {\n",
       "        vertical-align: top;\n",
       "    }\n",
       "\n",
       "    .dataframe thead th {\n",
       "        text-align: right;\n",
       "    }\n",
       "</style>\n",
       "<table border=\"1\" class=\"dataframe\">\n",
       "  <thead>\n",
       "    <tr style=\"text-align: right;\">\n",
       "      <th></th>\n",
       "      <th>date</th>\n",
       "      <th>Timestamp</th>\n",
       "      <th>Open</th>\n",
       "      <th>High</th>\n",
       "      <th>Low</th>\n",
       "      <th>Close</th>\n",
       "      <th>Volume_(BTC)</th>\n",
       "      <th>Volume_(Currency)</th>\n",
       "      <th>Weighted_Price</th>\n",
       "    </tr>\n",
       "  </thead>\n",
       "  <tbody>\n",
       "    <tr>\n",
       "      <th>0</th>\n",
       "      <td>2011-12-31</td>\n",
       "      <td>1.325342e+09</td>\n",
       "      <td>4.465000</td>\n",
       "      <td>4.482500</td>\n",
       "      <td>4.465000</td>\n",
       "      <td>4.482500</td>\n",
       "      <td>23.829470</td>\n",
       "      <td>106.330084</td>\n",
       "      <td>4.471603</td>\n",
       "    </tr>\n",
       "    <tr>\n",
       "      <th>1</th>\n",
       "      <td>2012-01-01</td>\n",
       "      <td>1.325427e+09</td>\n",
       "      <td>4.806667</td>\n",
       "      <td>4.806667</td>\n",
       "      <td>4.806667</td>\n",
       "      <td>4.806667</td>\n",
       "      <td>7.200667</td>\n",
       "      <td>35.259720</td>\n",
       "      <td>4.806667</td>\n",
       "    </tr>\n",
       "    <tr>\n",
       "      <th>2</th>\n",
       "      <td>2012-01-02</td>\n",
       "      <td>1.325535e+09</td>\n",
       "      <td>5.000000</td>\n",
       "      <td>5.000000</td>\n",
       "      <td>5.000000</td>\n",
       "      <td>5.000000</td>\n",
       "      <td>19.048000</td>\n",
       "      <td>95.240000</td>\n",
       "      <td>5.000000</td>\n",
       "    </tr>\n",
       "    <tr>\n",
       "      <th>3</th>\n",
       "      <td>2012-01-03</td>\n",
       "      <td>1.325605e+09</td>\n",
       "      <td>5.252500</td>\n",
       "      <td>5.252500</td>\n",
       "      <td>5.252500</td>\n",
       "      <td>5.252500</td>\n",
       "      <td>11.004660</td>\n",
       "      <td>58.100651</td>\n",
       "      <td>5.252500</td>\n",
       "    </tr>\n",
       "    <tr>\n",
       "      <th>4</th>\n",
       "      <td>2012-01-04</td>\n",
       "      <td>1.325682e+09</td>\n",
       "      <td>5.200000</td>\n",
       "      <td>5.223333</td>\n",
       "      <td>5.200000</td>\n",
       "      <td>5.223333</td>\n",
       "      <td>11.914807</td>\n",
       "      <td>63.119577</td>\n",
       "      <td>5.208159</td>\n",
       "    </tr>\n",
       "    <tr>\n",
       "      <th>...</th>\n",
       "      <td>...</td>\n",
       "      <td>...</td>\n",
       "      <td>...</td>\n",
       "      <td>...</td>\n",
       "      <td>...</td>\n",
       "      <td>...</td>\n",
       "      <td>...</td>\n",
       "      <td>...</td>\n",
       "      <td>...</td>\n",
       "    </tr>\n",
       "    <tr>\n",
       "      <th>3202</th>\n",
       "      <td>2020-10-09</td>\n",
       "      <td>1.602245e+09</td>\n",
       "      <td>10982.492676</td>\n",
       "      <td>10985.623715</td>\n",
       "      <td>10980.196313</td>\n",
       "      <td>10982.801468</td>\n",
       "      <td>3.760772</td>\n",
       "      <td>41417.357238</td>\n",
       "      <td>10983.384096</td>\n",
       "    </tr>\n",
       "    <tr>\n",
       "      <th>3203</th>\n",
       "      <td>2020-10-10</td>\n",
       "      <td>1.602332e+09</td>\n",
       "      <td>11333.565453</td>\n",
       "      <td>11337.292218</td>\n",
       "      <td>11330.713611</td>\n",
       "      <td>11333.892889</td>\n",
       "      <td>2.410000</td>\n",
       "      <td>27332.719872</td>\n",
       "      <td>11334.302729</td>\n",
       "    </tr>\n",
       "    <tr>\n",
       "      <th>3204</th>\n",
       "      <td>2020-10-11</td>\n",
       "      <td>1.602418e+09</td>\n",
       "      <td>11359.932272</td>\n",
       "      <td>11362.472757</td>\n",
       "      <td>11357.929625</td>\n",
       "      <td>11360.050206</td>\n",
       "      <td>1.601214</td>\n",
       "      <td>18205.967293</td>\n",
       "      <td>11360.626362</td>\n",
       "    </tr>\n",
       "    <tr>\n",
       "      <th>3205</th>\n",
       "      <td>2020-10-12</td>\n",
       "      <td>1.602504e+09</td>\n",
       "      <td>11446.628737</td>\n",
       "      <td>11450.348017</td>\n",
       "      <td>11443.743825</td>\n",
       "      <td>11446.934834</td>\n",
       "      <td>5.002278</td>\n",
       "      <td>57355.190172</td>\n",
       "      <td>11447.596320</td>\n",
       "    </tr>\n",
       "    <tr>\n",
       "      <th>3206</th>\n",
       "      <td>2020-10-13</td>\n",
       "      <td>1.602591e+09</td>\n",
       "      <td>11449.620416</td>\n",
       "      <td>11452.751536</td>\n",
       "      <td>11446.496180</td>\n",
       "      <td>11449.585588</td>\n",
       "      <td>3.592643</td>\n",
       "      <td>41075.494676</td>\n",
       "      <td>11450.011133</td>\n",
       "    </tr>\n",
       "  </tbody>\n",
       "</table>\n",
       "<p>3207 rows × 9 columns</p>\n",
       "</div>"
      ],
      "text/plain": [
       "            date     Timestamp          Open          High           Low  \\\n",
       "0     2011-12-31  1.325342e+09      4.465000      4.482500      4.465000   \n",
       "1     2012-01-01  1.325427e+09      4.806667      4.806667      4.806667   \n",
       "2     2012-01-02  1.325535e+09      5.000000      5.000000      5.000000   \n",
       "3     2012-01-03  1.325605e+09      5.252500      5.252500      5.252500   \n",
       "4     2012-01-04  1.325682e+09      5.200000      5.223333      5.200000   \n",
       "...          ...           ...           ...           ...           ...   \n",
       "3202  2020-10-09  1.602245e+09  10982.492676  10985.623715  10980.196313   \n",
       "3203  2020-10-10  1.602332e+09  11333.565453  11337.292218  11330.713611   \n",
       "3204  2020-10-11  1.602418e+09  11359.932272  11362.472757  11357.929625   \n",
       "3205  2020-10-12  1.602504e+09  11446.628737  11450.348017  11443.743825   \n",
       "3206  2020-10-13  1.602591e+09  11449.620416  11452.751536  11446.496180   \n",
       "\n",
       "             Close  Volume_(BTC)  Volume_(Currency)  Weighted_Price  \n",
       "0         4.482500     23.829470         106.330084        4.471603  \n",
       "1         4.806667      7.200667          35.259720        4.806667  \n",
       "2         5.000000     19.048000          95.240000        5.000000  \n",
       "3         5.252500     11.004660          58.100651        5.252500  \n",
       "4         5.223333     11.914807          63.119577        5.208159  \n",
       "...            ...           ...                ...             ...  \n",
       "3202  10982.801468      3.760772       41417.357238    10983.384096  \n",
       "3203  11333.892889      2.410000       27332.719872    11334.302729  \n",
       "3204  11360.050206      1.601214       18205.967293    11360.626362  \n",
       "3205  11446.934834      5.002278       57355.190172    11447.596320  \n",
       "3206  11449.585588      3.592643       41075.494676    11450.011133  \n",
       "\n",
       "[3207 rows x 9 columns]"
      ]
     },
     "execution_count": 63,
     "metadata": {},
     "output_type": "execute_result"
    }
   ],
   "source": [
    "df_train"
   ]
  },
  {
   "cell_type": "code",
   "execution_count": 64,
   "metadata": {
    "execution": {
     "iopub.execute_input": "2021-11-16T13:38:25.393199Z",
     "iopub.status.busy": "2021-11-16T13:38:25.392992Z",
     "iopub.status.idle": "2021-11-16T13:38:25.412589Z",
     "shell.execute_reply": "2021-11-16T13:38:25.411914Z",
     "shell.execute_reply.started": "2021-11-16T13:38:25.393173Z"
    },
    "tags": []
   },
   "outputs": [
    {
     "data": {
      "text/html": [
       "<div>\n",
       "<style scoped>\n",
       "    .dataframe tbody tr th:only-of-type {\n",
       "        vertical-align: middle;\n",
       "    }\n",
       "\n",
       "    .dataframe tbody tr th {\n",
       "        vertical-align: top;\n",
       "    }\n",
       "\n",
       "    .dataframe thead th {\n",
       "        text-align: right;\n",
       "    }\n",
       "</style>\n",
       "<table border=\"1\" class=\"dataframe\">\n",
       "  <thead>\n",
       "    <tr style=\"text-align: right;\">\n",
       "      <th></th>\n",
       "      <th>date</th>\n",
       "      <th>Timestamp</th>\n",
       "      <th>Open</th>\n",
       "      <th>High</th>\n",
       "      <th>Low</th>\n",
       "      <th>Close</th>\n",
       "      <th>Volume_(BTC)</th>\n",
       "      <th>Volume_(Currency)</th>\n",
       "      <th>Weighted_Price</th>\n",
       "    </tr>\n",
       "  </thead>\n",
       "  <tbody>\n",
       "    <tr>\n",
       "      <th>3207</th>\n",
       "      <td>2020-10-14</td>\n",
       "      <td>1.602677e+09</td>\n",
       "      <td>11404.767569</td>\n",
       "      <td>11407.940356</td>\n",
       "      <td>11402.095524</td>\n",
       "      <td>11404.985887</td>\n",
       "      <td>2.700107</td>\n",
       "      <td>30802.126772</td>\n",
       "      <td>11405.501559</td>\n",
       "    </tr>\n",
       "    <tr>\n",
       "      <th>3208</th>\n",
       "      <td>2020-10-15</td>\n",
       "      <td>1.602763e+09</td>\n",
       "      <td>11414.318695</td>\n",
       "      <td>11417.641600</td>\n",
       "      <td>11411.428807</td>\n",
       "      <td>11414.413593</td>\n",
       "      <td>3.413635</td>\n",
       "      <td>38960.873612</td>\n",
       "      <td>11415.065075</td>\n",
       "    </tr>\n",
       "    <tr>\n",
       "      <th>3209</th>\n",
       "      <td>2020-10-16</td>\n",
       "      <td>1.602850e+09</td>\n",
       "      <td>11364.571659</td>\n",
       "      <td>11367.766921</td>\n",
       "      <td>11361.192477</td>\n",
       "      <td>11364.462890</td>\n",
       "      <td>3.015552</td>\n",
       "      <td>34182.872368</td>\n",
       "      <td>11364.835083</td>\n",
       "    </tr>\n",
       "    <tr>\n",
       "      <th>3210</th>\n",
       "      <td>2020-10-17</td>\n",
       "      <td>1.602935e+09</td>\n",
       "      <td>11343.158030</td>\n",
       "      <td>11345.612904</td>\n",
       "      <td>11341.068896</td>\n",
       "      <td>11343.264119</td>\n",
       "      <td>0.832904</td>\n",
       "      <td>9445.784044</td>\n",
       "      <td>11343.749378</td>\n",
       "    </tr>\n",
       "    <tr>\n",
       "      <th>3211</th>\n",
       "      <td>2020-10-18</td>\n",
       "      <td>1.603018e+09</td>\n",
       "      <td>11424.554575</td>\n",
       "      <td>11426.502639</td>\n",
       "      <td>11423.175938</td>\n",
       "      <td>11424.888073</td>\n",
       "      <td>0.909001</td>\n",
       "      <td>10405.842475</td>\n",
       "      <td>11424.963448</td>\n",
       "    </tr>\n",
       "    <tr>\n",
       "      <th>...</th>\n",
       "      <td>...</td>\n",
       "      <td>...</td>\n",
       "      <td>...</td>\n",
       "      <td>...</td>\n",
       "      <td>...</td>\n",
       "      <td>...</td>\n",
       "      <td>...</td>\n",
       "      <td>...</td>\n",
       "      <td>...</td>\n",
       "    </tr>\n",
       "    <tr>\n",
       "      <th>3371</th>\n",
       "      <td>2021-03-27</td>\n",
       "      <td>1.616846e+09</td>\n",
       "      <td>55193.240643</td>\n",
       "      <td>55219.665031</td>\n",
       "      <td>55168.757372</td>\n",
       "      <td>55195.415367</td>\n",
       "      <td>1.823877</td>\n",
       "      <td>100884.732367</td>\n",
       "      <td>55193.357260</td>\n",
       "    </tr>\n",
       "    <tr>\n",
       "      <th>3372</th>\n",
       "      <td>2021-03-28</td>\n",
       "      <td>1.616933e+09</td>\n",
       "      <td>55833.608471</td>\n",
       "      <td>55857.735342</td>\n",
       "      <td>55810.425126</td>\n",
       "      <td>55835.012863</td>\n",
       "      <td>1.447939</td>\n",
       "      <td>80632.115263</td>\n",
       "      <td>55832.958824</td>\n",
       "    </tr>\n",
       "    <tr>\n",
       "      <th>3373</th>\n",
       "      <td>2021-03-29</td>\n",
       "      <td>1.617019e+09</td>\n",
       "      <td>56914.886595</td>\n",
       "      <td>56946.213593</td>\n",
       "      <td>56885.242967</td>\n",
       "      <td>56915.629993</td>\n",
       "      <td>3.732887</td>\n",
       "      <td>213754.555988</td>\n",
       "      <td>56913.993819</td>\n",
       "    </tr>\n",
       "    <tr>\n",
       "      <th>3374</th>\n",
       "      <td>2021-03-30</td>\n",
       "      <td>1.617106e+09</td>\n",
       "      <td>58347.805624</td>\n",
       "      <td>58371.955310</td>\n",
       "      <td>58323.956690</td>\n",
       "      <td>58349.357087</td>\n",
       "      <td>2.363999</td>\n",
       "      <td>138231.241926</td>\n",
       "      <td>58346.912268</td>\n",
       "    </tr>\n",
       "    <tr>\n",
       "      <th>3375</th>\n",
       "      <td>2021-03-31</td>\n",
       "      <td>1.617149e+09</td>\n",
       "      <td>58767.750000</td>\n",
       "      <td>58778.180000</td>\n",
       "      <td>58755.970000</td>\n",
       "      <td>58778.180000</td>\n",
       "      <td>2.712831</td>\n",
       "      <td>159417.751000</td>\n",
       "      <td>58764.349363</td>\n",
       "    </tr>\n",
       "  </tbody>\n",
       "</table>\n",
       "<p>169 rows × 9 columns</p>\n",
       "</div>"
      ],
      "text/plain": [
       "            date     Timestamp          Open          High           Low  \\\n",
       "3207  2020-10-14  1.602677e+09  11404.767569  11407.940356  11402.095524   \n",
       "3208  2020-10-15  1.602763e+09  11414.318695  11417.641600  11411.428807   \n",
       "3209  2020-10-16  1.602850e+09  11364.571659  11367.766921  11361.192477   \n",
       "3210  2020-10-17  1.602935e+09  11343.158030  11345.612904  11341.068896   \n",
       "3211  2020-10-18  1.603018e+09  11424.554575  11426.502639  11423.175938   \n",
       "...          ...           ...           ...           ...           ...   \n",
       "3371  2021-03-27  1.616846e+09  55193.240643  55219.665031  55168.757372   \n",
       "3372  2021-03-28  1.616933e+09  55833.608471  55857.735342  55810.425126   \n",
       "3373  2021-03-29  1.617019e+09  56914.886595  56946.213593  56885.242967   \n",
       "3374  2021-03-30  1.617106e+09  58347.805624  58371.955310  58323.956690   \n",
       "3375  2021-03-31  1.617149e+09  58767.750000  58778.180000  58755.970000   \n",
       "\n",
       "             Close  Volume_(BTC)  Volume_(Currency)  Weighted_Price  \n",
       "3207  11404.985887      2.700107       30802.126772    11405.501559  \n",
       "3208  11414.413593      3.413635       38960.873612    11415.065075  \n",
       "3209  11364.462890      3.015552       34182.872368    11364.835083  \n",
       "3210  11343.264119      0.832904        9445.784044    11343.749378  \n",
       "3211  11424.888073      0.909001       10405.842475    11424.963448  \n",
       "...            ...           ...                ...             ...  \n",
       "3371  55195.415367      1.823877      100884.732367    55193.357260  \n",
       "3372  55835.012863      1.447939       80632.115263    55832.958824  \n",
       "3373  56915.629993      3.732887      213754.555988    56913.993819  \n",
       "3374  58349.357087      2.363999      138231.241926    58346.912268  \n",
       "3375  58778.180000      2.712831      159417.751000    58764.349363  \n",
       "\n",
       "[169 rows x 9 columns]"
      ]
     },
     "execution_count": 64,
     "metadata": {},
     "output_type": "execute_result"
    }
   ],
   "source": [
    "df_test"
   ]
  },
  {
   "cell_type": "markdown",
   "metadata": {},
   "source": [
    "## Visualizing Data"
   ]
  },
  {
   "cell_type": "code",
   "execution_count": 65,
   "metadata": {
    "execution": {
     "iopub.execute_input": "2021-11-16T13:38:25.414213Z",
     "iopub.status.busy": "2021-11-16T13:38:25.41364Z",
     "iopub.status.idle": "2021-11-16T13:38:25.821857Z",
     "shell.execute_reply": "2021-11-16T13:38:25.820909Z",
     "shell.execute_reply.started": "2021-11-16T13:38:25.414181Z"
    },
    "tags": []
   },
   "outputs": [
    {
     "data": {
      "image/png": "[encoded data removed]",
      "text/plain": [
       "<Figure size 921.6x633.6 with 1 Axes>"
      ]
     },
     "metadata": {
      "needs_background": "light"
     },
     "output_type": "display_data"
    }
   ],
   "source": [
    "data_plot = grouped_data.loc[:, [\"Close\"]].values\n",
    "plt.plot(data_plot)\n",
    "plt.xlabel(\"Time\")\n",
    "plt.ylabel(\"Values of Close\")\n",
    "plt.title(\"Bitcoin Close Prices\")\n",
    "plt.show()"
   ]
  },
  {
   "cell_type": "code",
   "execution_count": 66,
   "metadata": {
    "execution": {
     "iopub.execute_input": "2021-11-16T13:38:25.823417Z",
     "iopub.status.busy": "2021-11-16T13:38:25.823133Z",
     "iopub.status.idle": "2021-11-16T13:38:25.828027Z",
     "shell.execute_reply": "2021-11-16T13:38:25.82715Z",
     "shell.execute_reply.started": "2021-11-16T13:38:25.823386Z"
    }
   },
   "outputs": [],
   "source": [
    "#we will predict Close values"
   ]
  },
  {
   "cell_type": "code",
   "execution_count": 67,
   "metadata": {
    "execution": {
     "iopub.execute_input": "2021-11-16T13:38:25.829538Z",
     "iopub.status.busy": "2021-11-16T13:38:25.829283Z",
     "iopub.status.idle": "2021-11-16T13:38:25.842214Z",
     "shell.execute_reply": "2021-11-16T13:38:25.841315Z",
     "shell.execute_reply.started": "2021-11-16T13:38:25.829488Z"
    }
   },
   "outputs": [
    {
     "data": {
      "text/plain": [
       "(3207, 1)"
      ]
     },
     "execution_count": 67,
     "metadata": {},
     "output_type": "execute_result"
    }
   ],
   "source": [
    "dataset = df_train.loc[:, [\"Close\"]].values\n",
    "dataset.shape"
   ]
  },
  {
   "cell_type": "code",
   "execution_count": 68,
   "metadata": {
    "execution": {
     "iopub.execute_input": "2021-11-16T13:38:25.844092Z",
     "iopub.status.busy": "2021-11-16T13:38:25.843286Z",
     "iopub.status.idle": "2021-11-16T13:38:25.851613Z",
     "shell.execute_reply": "2021-11-16T13:38:25.85082Z",
     "shell.execute_reply.started": "2021-11-16T13:38:25.844049Z"
    }
   },
   "outputs": [
    {
     "data": {
      "text/plain": [
       "(3207, 1)"
      ]
     },
     "execution_count": 68,
     "metadata": {},
     "output_type": "execute_result"
    }
   ],
   "source": [
    "#reshape\n",
    "dataset = dataset.reshape(-1, 1)\n",
    "\n",
    "#change type\n",
    "dataset = dataset.astype(\"float32\")\n",
    "dataset.shape"
   ]
  },
  {
   "cell_type": "markdown",
   "metadata": {},
   "source": [
    "## Scaling Data"
   ]
  },
  {
   "cell_type": "code",
   "execution_count": 69,
   "metadata": {
    "execution": {
     "iopub.execute_input": "2021-11-16T13:38:25.853056Z",
     "iopub.status.busy": "2021-11-16T13:38:25.852694Z",
     "iopub.status.idle": "2021-11-16T13:38:25.863626Z",
     "shell.execute_reply": "2021-11-16T13:38:25.862815Z",
     "shell.execute_reply.started": "2021-11-16T13:38:25.853013Z"
    }
   },
   "outputs": [
    {
     "data": {
      "text/plain": [
       "array([[7.8616577e-06],\n",
       "       [2.4757654e-05],\n",
       "       [3.4834418e-05],\n",
       "       ...,\n",
       "       [5.9187502e-01],\n",
       "       [5.9640354e-01],\n",
       "       [5.9654176e-01]], dtype=float32)"
      ]
     },
     "execution_count": 69,
     "metadata": {},
     "output_type": "execute_result"
    }
   ],
   "source": [
    "# Feature Scaling\n",
    "from sklearn.preprocessing import MinMaxScaler\n",
    "scaler = MinMaxScaler(feature_range = (0, 1))\n",
    "data_scaled = scaler.fit_transform(dataset)\n",
    "data_scaled"
   ]
  },
  {
   "cell_type": "code",
   "execution_count": 70,
   "metadata": {
    "execution": {
     "iopub.execute_input": "2021-11-16T13:38:25.865547Z",
     "iopub.status.busy": "2021-11-16T13:38:25.864974Z",
     "iopub.status.idle": "2021-11-16T13:38:26.069383Z",
     "shell.execute_reply": "2021-11-16T13:38:26.068794Z",
     "shell.execute_reply.started": "2021-11-16T13:38:25.86551Z"
    }
   },
   "outputs": [
    {
     "data": {
      "image/png": "[encoded data removed]",
      "text/plain": [
       "<Figure size 921.6x633.6 with 1 Axes>"
      ]
     },
     "metadata": {
      "needs_background": "light"
     },
     "output_type": "display_data"
    }
   ],
   "source": [
    "plt.plot(data_scaled)\n",
    "plt.xlabel(\"Time\")\n",
    "plt.ylabel(\"Values of Close\")\n",
    "plt.title(\"Bitcoin Close Price (Scaled)\")\n",
    "plt.show()"
   ]
  },
  {
   "cell_type": "code",
   "execution_count": 71,
   "metadata": {
    "execution": {
     "iopub.execute_input": "2021-11-16T13:38:26.071166Z",
     "iopub.status.busy": "2021-11-16T13:38:26.070502Z",
     "iopub.status.idle": "2021-11-16T13:38:26.085526Z",
     "shell.execute_reply": "2021-11-16T13:38:26.084642Z",
     "shell.execute_reply.started": "2021-11-16T13:38:26.071129Z"
    }
   },
   "outputs": [
    {
     "name": "stdout",
     "output_type": "stream",
     "text": [
      "X_train shape:  (3197, 10)\n",
      "y_train shape:  (3197,)\n"
     ]
    }
   ],
   "source": [
    "# Creating a data structure with 10 time_step and 1 output\n",
    "X_train = []\n",
    "y_train = []\n",
    "time_step = 10\n",
    "for i in range(time_step, data_scaled.shape[0]):\n",
    "    X_train.append(data_scaled[i-time_step:i, 0])\n",
    "    y_train.append(data_scaled[i, 0])\n",
    "X_train, y_train = np.array(X_train), np.array(y_train)\n",
    "\n",
    "print(\"X_train shape: \", X_train.shape)\n",
    "print(\"y_train shape: \", y_train.shape)"
   ]
  },
  {
   "cell_type": "code",
   "execution_count": 72,
   "metadata": {
    "execution": {
     "iopub.execute_input": "2021-11-16T13:38:26.087533Z",
     "iopub.status.busy": "2021-11-16T13:38:26.087007Z",
     "iopub.status.idle": "2021-11-16T13:38:26.097004Z",
     "shell.execute_reply": "2021-11-16T13:38:26.096202Z",
     "shell.execute_reply.started": "2021-11-16T13:38:26.087488Z"
    },
    "tags": []
   },
   "outputs": [],
   "source": [
    "# Reshaping to 3D\n",
    "X_train = np.reshape(X_train, (X_train.shape[0], X_train.shape[1], 1))"
   ]
  },
  {
   "cell_type": "code",
   "execution_count": 73,
   "metadata": {
    "execution": {
     "iopub.execute_input": "2021-11-16T13:38:26.098531Z",
     "iopub.status.busy": "2021-11-16T13:38:26.09831Z",
     "iopub.status.idle": "2021-11-16T13:38:26.109922Z",
     "shell.execute_reply": "2021-11-16T13:38:26.108929Z",
     "shell.execute_reply.started": "2021-11-16T13:38:26.098504Z"
    }
   },
   "outputs": [
    {
     "name": "stdout",
     "output_type": "stream",
     "text": [
      "X_train shape:  (3197, 10, 1)\n",
      "y_train shape:  (3197,)\n"
     ]
    }
   ],
   "source": [
    "print(\"X_train shape: \",X_train.shape)\n",
    "print(\"y_train shape: \",y_train.shape)"
   ]
  },
  {
   "cell_type": "markdown",
   "metadata": {},
   "source": [
    "## Modeling (RNN)"
   ]
  },
  {
   "cell_type": "code",
   "execution_count": 74,
   "metadata": {
    "execution": {
     "iopub.execute_input": "2021-11-16T13:38:26.111455Z",
     "iopub.status.busy": "2021-11-16T13:38:26.111064Z",
     "iopub.status.idle": "2021-11-16T13:38:26.119348Z",
     "shell.execute_reply": "2021-11-16T13:38:26.118721Z",
     "shell.execute_reply.started": "2021-11-16T13:38:26.111424Z"
    }
   },
   "outputs": [],
   "source": [
    "### Importing the Keras libraries and packages\n",
    "from keras.models import Sequential\n",
    "from keras.layers import Dense\n",
    "from keras.layers import SimpleRNN\n",
    "from keras.layers import Dropout"
   ]
  },
  {
   "cell_type": "code",
   "execution_count": 81,
   "metadata": {
    "execution": {
     "iopub.execute_input": "2021-11-16T13:38:26.121007Z",
     "iopub.status.busy": "2021-11-16T13:38:26.120617Z",
     "iopub.status.idle": "2021-11-16T13:41:41.91385Z",
     "shell.execute_reply": "2021-11-16T13:41:41.91323Z",
     "shell.execute_reply.started": "2021-11-16T13:38:26.120976Z"
    },
    "tags": []
   },
   "outputs": [
    {
     "name": "stdout",
     "output_type": "stream",
     "text": [
      "Model: \"sequential_10\"\n",
      "_________________________________________________________________\n",
      " Layer (type)                Output Shape              Param #   \n",
      "=================================================================\n",
      " simple_rnn_40 (SimpleRNN)   (None, 10, 50)            2600      \n",
      "                                                                 \n",
      " dropout_40 (Dropout)        (None, 10, 50)            0         \n",
      "                                                                 \n",
      " simple_rnn_41 (SimpleRNN)   (None, 10, 50)            5050      \n",
      "                                                                 \n",
      " dropout_41 (Dropout)        (None, 10, 50)            0         \n",
      "                                                                 \n",
      " simple_rnn_42 (SimpleRNN)   (None, 10, 50)            5050      \n",
      "                                                                 \n",
      " dropout_42 (Dropout)        (None, 10, 50)            0         \n",
      "                                                                 \n",
      " simple_rnn_43 (SimpleRNN)   (None, 50)                5050      \n",
      "                                                                 \n",
      " dropout_43 (Dropout)        (None, 50)                0         \n",
      "                                                                 \n",
      " dense_10 (Dense)            (None, 1)                 51        \n",
      "                                                                 \n",
      "=================================================================\n",
      "Total params: 17,801\n",
      "Trainable params: 17,801\n",
      "Non-trainable params: 0\n",
      "_________________________________________________________________\n",
      "Epoch 1/100\n",
      "100/100 [==============================] - 3s 7ms/step - loss: 0.0142 - accuracy: 6.2559e-04\n",
      "Epoch 2/100\n",
      "100/100 [==============================] - 1s 7ms/step - loss: 0.0031 - accuracy: 6.2559e-04\n",
      "Epoch 3/100\n",
      "100/100 [==============================] - 1s 7ms/step - loss: 0.0026 - accuracy: 6.2559e-04\n",
      "Epoch 4/100\n",
      "100/100 [==============================] - 1s 7ms/step - loss: 0.0022 - accuracy: 6.2559e-04\n",
      "Epoch 5/100\n",
      "100/100 [==============================] - 1s 7ms/step - loss: 0.0018 - accuracy: 6.2559e-04\n",
      "Epoch 6/100\n",
      "100/100 [==============================] - 1s 7ms/step - loss: 0.0018 - accuracy: 6.2559e-04\n",
      "Epoch 7/100\n",
      "100/100 [==============================] - 1s 7ms/step - loss: 0.0019 - accuracy: 6.2559e-04\n",
      "Epoch 8/100\n",
      "100/100 [==============================] - 1s 7ms/step - loss: 0.0017 - accuracy: 6.2559e-04\n",
      "Epoch 9/100\n",
      "100/100 [==============================] - 1s 7ms/step - loss: 0.0017 - accuracy: 6.2559e-04\n",
      "Epoch 10/100\n",
      "100/100 [==============================] - 1s 7ms/step - loss: 0.0014 - accuracy: 6.2559e-04\n",
      "Epoch 11/100\n",
      "100/100 [==============================] - 1s 7ms/step - loss: 0.0016 - accuracy: 6.2559e-04\n",
      "Epoch 12/100\n",
      "100/100 [==============================] - 1s 7ms/step - loss: 0.0016 - accuracy: 6.2559e-04\n",
      "Epoch 13/100\n",
      "100/100 [==============================] - 1s 7ms/step - loss: 0.0013 - accuracy: 6.2559e-04\n",
      "Epoch 14/100\n",
      "100/100 [==============================] - 1s 7ms/step - loss: 0.0013 - accuracy: 6.2559e-04\n",
      "Epoch 15/100\n",
      "100/100 [==============================] - 1s 7ms/step - loss: 0.0013 - accuracy: 6.2559e-04\n",
      "Epoch 16/100\n",
      "100/100 [==============================] - 1s 7ms/step - loss: 0.0014 - accuracy: 6.2559e-04\n",
      "Epoch 17/100\n",
      "100/100 [==============================] - 1s 7ms/step - loss: 0.0014 - accuracy: 6.2559e-04\n",
      "Epoch 18/100\n",
      "100/100 [==============================] - 1s 7ms/step - loss: 0.0012 - accuracy: 6.2559e-04\n",
      "Epoch 19/100\n",
      "100/100 [==============================] - 1s 7ms/step - loss: 0.0011 - accuracy: 6.2559e-04\n",
      "Epoch 20/100\n",
      "100/100 [==============================] - 1s 7ms/step - loss: 0.0012 - accuracy: 6.2559e-04\n",
      "Epoch 21/100\n",
      "100/100 [==============================] - 1s 7ms/step - loss: 0.0011 - accuracy: 6.2559e-04\n",
      "Epoch 22/100\n",
      "100/100 [==============================] - 1s 7ms/step - loss: 9.9160e-04 - accuracy: 6.2559e-04\n",
      "Epoch 23/100\n",
      "100/100 [==============================] - 1s 7ms/step - loss: 0.0011 - accuracy: 6.2559e-04\n",
      "Epoch 24/100\n",
      "100/100 [==============================] - 1s 7ms/step - loss: 0.0010 - accuracy: 6.2559e-04\n",
      "Epoch 25/100\n",
      "100/100 [==============================] - 1s 7ms/step - loss: 9.7549e-04 - accuracy: 6.2559e-04\n",
      "Epoch 26/100\n",
      "100/100 [==============================] - 1s 7ms/step - loss: 0.0012 - accuracy: 6.2559e-04\n",
      "Epoch 27/100\n",
      "100/100 [==============================] - 1s 7ms/step - loss: 9.9204e-04 - accuracy: 6.2559e-04\n",
      "Epoch 28/100\n",
      "100/100 [==============================] - 1s 7ms/step - loss: 0.0010 - accuracy: 6.2559e-04\n",
      "Epoch 29/100\n",
      "100/100 [==============================] - 1s 7ms/step - loss: 9.0405e-04 - accuracy: 6.2559e-04\n",
      "Epoch 30/100\n",
      "100/100 [==============================] - 1s 7ms/step - loss: 8.3717e-04 - accuracy: 6.2559e-04\n",
      "Epoch 31/100\n",
      "100/100 [==============================] - 1s 7ms/step - loss: 9.9641e-04 - accuracy: 6.2559e-04\n",
      "Epoch 32/100\n",
      "100/100 [==============================] - 1s 7ms/step - loss: 9.1007e-04 - accuracy: 6.2559e-04\n",
      "Epoch 33/100\n",
      "100/100 [==============================] - 1s 7ms/step - loss: 9.1286e-04 - accuracy: 6.2559e-04\n",
      "Epoch 34/100\n",
      "100/100 [==============================] - 1s 7ms/step - loss: 9.3103e-04 - accuracy: 6.2559e-04\n",
      "Epoch 35/100\n",
      "100/100 [==============================] - 1s 7ms/step - loss: 9.2759e-04 - accuracy: 6.2559e-04\n",
      "Epoch 36/100\n",
      "100/100 [==============================] - 1s 7ms/step - loss: 8.1524e-04 - accuracy: 6.2559e-04\n",
      "Epoch 37/100\n",
      "100/100 [==============================] - 1s 7ms/step - loss: 9.4479e-04 - accuracy: 6.2559e-04\n",
      "Epoch 38/100\n",
      "100/100 [==============================] - 1s 7ms/step - loss: 8.6973e-04 - accuracy: 6.2559e-04\n",
      "Epoch 39/100\n",
      "100/100 [==============================] - 1s 7ms/step - loss: 7.8040e-04 - accuracy: 6.2559e-04\n",
      "Epoch 40/100\n",
      "100/100 [==============================] - 1s 7ms/step - loss: 8.7164e-04 - accuracy: 6.2559e-04\n",
      "Epoch 41/100\n",
      "100/100 [==============================] - 1s 7ms/step - loss: 8.7080e-04 - accuracy: 6.2559e-04\n",
      "Epoch 42/100\n",
      "100/100 [==============================] - 1s 7ms/step - loss: 9.1097e-04 - accuracy: 6.2559e-04\n",
      "Epoch 43/100\n",
      "100/100 [==============================] - 1s 7ms/step - loss: 8.5027e-04 - accuracy: 6.2559e-04\n",
      "Epoch 44/100\n",
      "100/100 [==============================] - 1s 7ms/step - loss: 8.4060e-04 - accuracy: 6.2559e-04\n",
      "Epoch 45/100\n",
      "100/100 [==============================] - 1s 7ms/step - loss: 7.4265e-04 - accuracy: 6.2559e-04\n",
      "Epoch 46/100\n",
      "100/100 [==============================] - 1s 7ms/step - loss: 7.2376e-04 - accuracy: 6.2559e-04\n",
      "Epoch 47/100\n",
      "100/100 [==============================] - 1s 7ms/step - loss: 8.1535e-04 - accuracy: 6.2559e-04\n",
      "Epoch 48/100\n",
      "100/100 [==============================] - 1s 7ms/step - loss: 7.5268e-04 - accuracy: 6.2559e-04\n",
      "Epoch 49/100\n",
      "100/100 [==============================] - 1s 7ms/step - loss: 9.9646e-04 - accuracy: 6.2559e-04\n",
      "Epoch 50/100\n",
      "100/100 [==============================] - 1s 8ms/step - loss: 7.3499e-04 - accuracy: 6.2559e-04\n",
      "Epoch 51/100\n",
      "100/100 [==============================] - 1s 7ms/step - loss: 7.2507e-04 - accuracy: 6.2559e-04\n",
      "Epoch 52/100\n",
      "100/100 [==============================] - 1s 7ms/step - loss: 7.0947e-04 - accuracy: 6.2559e-04\n",
      "Epoch 53/100\n",
      "100/100 [==============================] - 1s 6ms/step - loss: 7.3457e-04 - accuracy: 6.2559e-04\n",
      "Epoch 54/100\n",
      "100/100 [==============================] - 1s 6ms/step - loss: 7.5897e-04 - accuracy: 6.2559e-04\n",
      "Epoch 55/100\n",
      "100/100 [==============================] - 1s 7ms/step - loss: 7.3648e-04 - accuracy: 6.2559e-04\n",
      "Epoch 56/100\n",
      "100/100 [==============================] - 1s 6ms/step - loss: 7.2830e-04 - accuracy: 6.2559e-04\n",
      "Epoch 57/100\n",
      "100/100 [==============================] - 1s 6ms/step - loss: 7.4246e-04 - accuracy: 6.2559e-04\n",
      "Epoch 58/100\n",
      "100/100 [==============================] - 1s 7ms/step - loss: 7.2945e-04 - accuracy: 6.2559e-04\n",
      "Epoch 59/100\n",
      "100/100 [==============================] - 1s 6ms/step - loss: 7.0777e-04 - accuracy: 6.2559e-04\n",
      "Epoch 60/100\n",
      "100/100 [==============================] - 1s 6ms/step - loss: 7.3319e-04 - accuracy: 6.2559e-04\n",
      "Epoch 61/100\n"
     ]
    },
    {
     "name": "stdout",
     "output_type": "stream",
     "text": [
      "100/100 [==============================] - 1s 6ms/step - loss: 6.9127e-04 - accuracy: 6.2559e-04\n",
      "Epoch 62/100\n",
      "100/100 [==============================] - 1s 6ms/step - loss: 7.3588e-04 - accuracy: 6.2559e-04\n",
      "Epoch 63/100\n",
      "100/100 [==============================] - 1s 6ms/step - loss: 6.9617e-04 - accuracy: 6.2559e-04\n",
      "Epoch 64/100\n",
      "100/100 [==============================] - 1s 6ms/step - loss: 6.9490e-04 - accuracy: 6.2559e-04\n",
      "Epoch 65/100\n",
      "100/100 [==============================] - 1s 6ms/step - loss: 8.3706e-04 - accuracy: 6.2559e-04\n",
      "Epoch 66/100\n",
      "100/100 [==============================] - 1s 7ms/step - loss: 7.3032e-04 - accuracy: 6.2559e-04\n",
      "Epoch 67/100\n",
      "100/100 [==============================] - 1s 6ms/step - loss: 7.3373e-04 - accuracy: 6.2559e-04\n",
      "Epoch 68/100\n",
      "100/100 [==============================] - 1s 6ms/step - loss: 7.0158e-04 - accuracy: 6.2559e-04\n",
      "Epoch 69/100\n",
      "100/100 [==============================] - 1s 6ms/step - loss: 6.9808e-04 - accuracy: 6.2559e-04\n",
      "Epoch 70/100\n",
      "100/100 [==============================] - 1s 6ms/step - loss: 6.0546e-04 - accuracy: 6.2559e-04\n",
      "Epoch 71/100\n",
      "100/100 [==============================] - 1s 6ms/step - loss: 6.3110e-04 - accuracy: 6.2559e-04\n",
      "Epoch 72/100\n",
      "100/100 [==============================] - 1s 8ms/step - loss: 7.5477e-04 - accuracy: 6.2559e-04\n",
      "Epoch 73/100\n",
      "100/100 [==============================] - 1s 7ms/step - loss: 6.5703e-04 - accuracy: 6.2559e-04\n",
      "Epoch 74/100\n",
      "100/100 [==============================] - 1s 7ms/step - loss: 6.5833e-04 - accuracy: 6.2559e-04\n",
      "Epoch 75/100\n",
      "100/100 [==============================] - 1s 6ms/step - loss: 6.8347e-04 - accuracy: 6.2559e-04\n",
      "Epoch 76/100\n",
      "100/100 [==============================] - 1s 6ms/step - loss: 6.9646e-04 - accuracy: 6.2559e-04\n",
      "Epoch 77/100\n",
      "100/100 [==============================] - 1s 6ms/step - loss: 6.7367e-04 - accuracy: 6.2559e-04\n",
      "Epoch 78/100\n",
      "100/100 [==============================] - 1s 6ms/step - loss: 6.4017e-04 - accuracy: 6.2559e-04\n",
      "Epoch 79/100\n",
      "100/100 [==============================] - 1s 6ms/step - loss: 6.8657e-04 - accuracy: 6.2559e-04\n",
      "Epoch 80/100\n",
      "100/100 [==============================] - 1s 6ms/step - loss: 7.2916e-04 - accuracy: 6.2559e-04\n",
      "Epoch 81/100\n",
      "100/100 [==============================] - 1s 6ms/step - loss: 6.0292e-04 - accuracy: 6.2559e-04\n",
      "Epoch 82/100\n",
      "100/100 [==============================] - 1s 6ms/step - loss: 6.5257e-04 - accuracy: 6.2559e-04\n",
      "Epoch 83/100\n",
      "100/100 [==============================] - 1s 6ms/step - loss: 6.1132e-04 - accuracy: 6.2559e-04\n",
      "Epoch 84/100\n",
      "100/100 [==============================] - 1s 6ms/step - loss: 6.7962e-04 - accuracy: 6.2559e-04\n",
      "Epoch 85/100\n",
      "100/100 [==============================] - 1s 6ms/step - loss: 6.2137e-04 - accuracy: 6.2559e-04\n",
      "Epoch 86/100\n",
      "100/100 [==============================] - 1s 6ms/step - loss: 7.1962e-04 - accuracy: 6.2559e-04\n",
      "Epoch 87/100\n",
      "100/100 [==============================] - 1s 6ms/step - loss: 6.7837e-04 - accuracy: 6.2559e-04\n",
      "Epoch 88/100\n",
      "100/100 [==============================] - 1s 6ms/step - loss: 6.8250e-04 - accuracy: 6.2559e-04\n",
      "Epoch 89/100\n",
      "100/100 [==============================] - 1s 6ms/step - loss: 7.2873e-04 - accuracy: 6.2559e-04\n",
      "Epoch 90/100\n",
      "100/100 [==============================] - 1s 6ms/step - loss: 6.2238e-04 - accuracy: 6.2559e-04\n",
      "Epoch 91/100\n",
      "100/100 [==============================] - 1s 6ms/step - loss: 6.8427e-04 - accuracy: 6.2559e-04\n",
      "Epoch 92/100\n",
      "100/100 [==============================] - 1s 6ms/step - loss: 6.3166e-04 - accuracy: 6.2559e-04\n",
      "Epoch 93/100\n",
      "100/100 [==============================] - 1s 6ms/step - loss: 6.8363e-04 - accuracy: 6.2559e-04\n",
      "Epoch 94/100\n",
      "100/100 [==============================] - 1s 6ms/step - loss: 5.6368e-04 - accuracy: 6.2559e-04\n",
      "Epoch 95/100\n",
      "100/100 [==============================] - 1s 6ms/step - loss: 6.2493e-04 - accuracy: 6.2559e-04\n",
      "Epoch 96/100\n",
      "100/100 [==============================] - 1s 6ms/step - loss: 6.5323e-04 - accuracy: 6.2559e-04\n",
      "Epoch 97/100\n",
      "100/100 [==============================] - 1s 6ms/step - loss: 5.9691e-04 - accuracy: 6.2559e-04\n",
      "Epoch 98/100\n",
      "100/100 [==============================] - 1s 7ms/step - loss: 6.2040e-04 - accuracy: 6.2559e-04\n",
      "Epoch 99/100\n",
      "100/100 [==============================] - 1s 7ms/step - loss: 6.2299e-04 - accuracy: 6.2559e-04\n",
      "Epoch 100/100\n",
      "100/100 [==============================] - 1s 7ms/step - loss: 5.6819e-04 - accuracy: 6.2559e-04\n"
     ]
    },
    {
     "data": {
      "text/plain": [
       "<keras.callbacks.History at 0x209968dee20>"
      ]
     },
     "execution_count": 81,
     "metadata": {},
     "output_type": "execute_result"
    }
   ],
   "source": [
    "# Initialising the RNN ( with four layers)\n",
    "regressor = Sequential()\n",
    "function = \"relu\"\n",
    "\n",
    "# Adding the first RNN layer and some Dropout regularization\n",
    "regressor.add(SimpleRNN(units = 50, activation=function, return_sequences = True, input_shape = (X_train.shape[1], 1)))\n",
    "regressor.add(Dropout(0.2))\n",
    "\n",
    "# Adding a second RNN layer and some Dropout regularization\n",
    "regressor.add(SimpleRNN(units = 50, activation=function, return_sequences = True))\n",
    "regressor.add(Dropout(0.2))\n",
    "\n",
    "# Adding a third RNN layer and some Dropout regularization\n",
    "regressor.add(SimpleRNN(units = 50, activation=function, return_sequences = True))\n",
    "regressor.add(Dropout(0.2))\n",
    "\n",
    "# Adding a fourth RNN layer and some Dropout regularization\n",
    "regressor.add(SimpleRNN(units = 50))\n",
    "regressor.add(Dropout(0.2))\n",
    "\n",
    "# Adding the output layer\n",
    "regressor.add(Dense(units = 1))\n",
    "\n",
    "# Compiling the RNN\n",
    "regressor.compile(optimizer = 'adam', loss = 'mean_squared_error', metrics=['accuracy'])\n",
    "\n",
    "regressor.summary()\n",
    "\n",
    "# Fitting the RNN to the Training set\n",
    "regressor.fit(X_train, y_train, epochs = 100, batch_size = 32)\n",
    "# epoch= 100\n",
    "\n"
   ]
  },
  {
   "cell_type": "markdown",
   "metadata": {},
   "source": [
    "## Prediction and Visualising RNN MOdel"
   ]
  },
  {
   "cell_type": "code",
   "execution_count": 76,
   "metadata": {
    "execution": {
     "iopub.execute_input": "2021-11-16T13:41:41.919532Z",
     "iopub.status.busy": "2021-11-16T13:41:41.91927Z",
     "iopub.status.idle": "2021-11-16T13:41:41.925056Z",
     "shell.execute_reply": "2021-11-16T13:41:41.924147Z",
     "shell.execute_reply.started": "2021-11-16T13:41:41.919502Z"
    }
   },
   "outputs": [],
   "source": [
    "real_bitcoin_price = df_test.loc[:, [\"Close\"]].values"
   ]
  },
  {
   "cell_type": "code",
   "execution_count": 77,
   "metadata": {
    "execution": {
     "iopub.execute_input": "2021-11-16T13:41:41.927068Z",
     "iopub.status.busy": "2021-11-16T13:41:41.926576Z",
     "iopub.status.idle": "2021-11-16T13:41:41.939129Z",
     "shell.execute_reply": "2021-11-16T13:41:41.938325Z",
     "shell.execute_reply.started": "2021-11-16T13:41:41.927025Z"
    },
    "tags": []
   },
   "outputs": [
    {
     "data": {
      "text/plain": [
       "(169, 1)"
      ]
     },
     "execution_count": 77,
     "metadata": {},
     "output_type": "execute_result"
    }
   ],
   "source": [
    "real_bitcoin_price.shape"
   ]
  },
  {
   "cell_type": "code",
   "execution_count": 78,
   "metadata": {
    "execution": {
     "iopub.execute_input": "2021-11-16T13:42:10.858153Z",
     "iopub.status.busy": "2021-11-16T13:42:10.857686Z",
     "iopub.status.idle": "2021-11-16T13:42:10.865084Z",
     "shell.execute_reply": "2021-11-16T13:42:10.864184Z",
     "shell.execute_reply.started": "2021-11-16T13:42:10.858105Z"
    },
    "tags": []
   },
   "outputs": [],
   "source": [
    "df_total = pd.concat((df_train['Close'], df_test['Close']), axis = 0)\n",
    "inputs = df_total[len(df_total) - len(df_test) - time_step:].values.reshape(-1,1)\n",
    "inputs = scaler.transform(inputs)  # min max scaler"
   ]
  },
  {
   "cell_type": "code",
   "execution_count": 87,
   "metadata": {
    "execution": {
     "iopub.execute_input": "2021-11-16T13:41:41.957813Z",
     "iopub.status.busy": "2021-11-16T13:41:41.957479Z",
     "iopub.status.idle": "2021-11-16T13:41:42.899277Z",
     "shell.execute_reply": "2021-11-16T13:41:42.898325Z",
     "shell.execute_reply.started": "2021-11-16T13:41:41.957785Z"
    }
   },
   "outputs": [
    {
     "name": "stdout",
     "output_type": "stream",
     "text": [
      "Standardized: 22990.50 (7342.07) MSE\n"
     ]
    },
    {
     "data": {
      "image/png": "[encoded data removed]",
      "text/plain": [
       "<Figure size 921.6x633.6 with 1 Axes>"
      ]
     },
     "metadata": {
      "needs_background": "light"
     },
     "output_type": "display_data"
    },
    {
     "name": "stdout",
     "output_type": "stream",
     "text": [
      "[[11092.007 ]\n",
      " [11031.214 ]\n",
      " [11077.293 ]\n",
      " [11010.89  ]\n",
      " [11005.295 ]\n",
      " [11085.844 ]\n",
      " [11216.81  ]\n",
      " [11458.79  ]\n",
      " [12034.97  ]\n",
      " [12393.315 ]\n",
      " [12381.555 ]\n",
      " [12497.792 ]\n",
      " [12362.183 ]\n",
      " [12375.8125]\n",
      " [12771.111 ]\n",
      " [12729.814 ]\n",
      " [12687.587 ]\n",
      " [12791.656 ]\n",
      " [12976.8125]\n",
      " [13039.126 ]\n",
      " [12892.197 ]\n",
      " [12880.576 ]\n",
      " [13130.415 ]\n",
      " [13999.98  ]\n",
      " [14748.469 ]\n",
      " [14405.815 ]\n",
      " [14430.626 ]\n",
      " [14359.13  ]\n",
      " [14278.259 ]\n",
      " [14709.608 ]\n",
      " [14843.594 ]\n",
      " [15171.81  ]\n",
      " [14911.088 ]\n",
      " [14901.356 ]\n",
      " [15223.101 ]\n",
      " [15900.228 ]\n",
      " [16589.543 ]\n",
      " [16280.842 ]\n",
      " [16819.828 ]\n",
      " [16887.766 ]\n",
      " [16649.006 ]\n",
      " [16820.38  ]\n",
      " [16987.176 ]\n",
      " [17252.576 ]\n",
      " [15903.174 ]\n",
      " [15654.435 ]\n",
      " [15849.997 ]\n",
      " [16704.68  ]\n",
      " [17635.633 ]\n",
      " [17366.537 ]\n",
      " [17071.49  ]\n",
      " [17397.662 ]\n",
      " [17112.555 ]\n",
      " [17163.94  ]\n",
      " [17273.63  ]\n",
      " [17171.246 ]\n",
      " [17149.96  ]\n",
      " [16513.719 ]\n",
      " [16624.768 ]\n",
      " [16254.    ]\n",
      " [16975.361 ]\n",
      " [17401.88  ]\n",
      " [17163.467 ]\n",
      " [17553.44  ]\n",
      " [17942.479 ]\n",
      " [20582.049 ]\n",
      " [20099.783 ]\n",
      " [20247.52  ]\n",
      " [20130.367 ]\n",
      " [19749.947 ]\n",
      " [20181.68  ]\n",
      " [20181.025 ]\n",
      " [19947.66  ]\n",
      " [20837.416 ]\n",
      " [21533.64  ]\n",
      " [22747.525 ]\n",
      " [22383.732 ]\n",
      " [21928.17  ]\n",
      " [23229.729 ]\n",
      " [23298.527 ]\n",
      " [23743.371 ]\n",
      " [24570.52  ]\n",
      " [25991.51  ]\n",
      " [24543.87  ]\n",
      " [25073.65  ]\n",
      " [26601.7   ]\n",
      " [27958.682 ]\n",
      " [28723.316 ]\n",
      " [28180.768 ]\n",
      " [27589.191 ]\n",
      " [24765.234 ]\n",
      " [25928.441 ]\n",
      " [25783.322 ]\n",
      " [28963.246 ]\n",
      " [27460.773 ]\n",
      " [26396.662 ]\n",
      " [26237.889 ]\n",
      " [26114.996 ]\n",
      " [27255.795 ]\n",
      " [25869.352 ]\n",
      " [24860.664 ]\n",
      " [24281.195 ]\n",
      " [24927.219 ]\n",
      " [25064.227 ]\n",
      " [25867.186 ]\n",
      " [24512.303 ]\n",
      " [24170.494 ]\n",
      " [24764.045 ]\n",
      " [26887.258 ]\n",
      " [25853.723 ]\n",
      " [25283.762 ]\n",
      " [25567.959 ]\n",
      " [25870.988 ]\n",
      " [27558.777 ]\n",
      " [27392.88  ]\n",
      " [27146.926 ]\n",
      " [28474.1   ]\n",
      " [27213.459 ]\n",
      " [29228.42  ]\n",
      " [31365.07  ]\n",
      " [29856.463 ]\n",
      " [30242.008 ]\n",
      " [30426.326 ]\n",
      " [30005.178 ]\n",
      " [31350.893 ]\n",
      " [30201.398 ]\n",
      " [31006.451 ]\n",
      " [31705.557 ]\n",
      " [31752.666 ]\n",
      " [32222.383 ]\n",
      " [33067.562 ]\n",
      " [32857.277 ]\n",
      " [31816.158 ]\n",
      " [29581.078 ]\n",
      " [30856.795 ]\n",
      " [30979.871 ]\n",
      " [29980.842 ]\n",
      " [30799.135 ]\n",
      " [28794.734 ]\n",
      " [31369.795 ]\n",
      " [30874.24  ]\n",
      " [31473.35  ]\n",
      " [30865.281 ]\n",
      " [29769.195 ]\n",
      " [30823.828 ]\n",
      " [31265.73  ]\n",
      " [31676.293 ]\n",
      " [32802.55  ]\n",
      " [32562.66  ]\n",
      " [32663.705 ]\n",
      " [32702.363 ]\n",
      " [33275.2   ]\n",
      " [33752.    ]\n",
      " [32315.629 ]\n",
      " [31831.4   ]\n",
      " [32447.822 ]\n",
      " [33392.938 ]\n",
      " [33312.656 ]\n",
      " [33188.035 ]\n",
      " [32275.82  ]\n",
      " [32370.39  ]\n",
      " [31742.156 ]\n",
      " [32363.998 ]\n",
      " [31096.    ]\n",
      " [32194.41  ]\n",
      " [32651.621 ]\n",
      " [32608.896 ]\n",
      " [33118.023 ]\n",
      " [33006.582 ]]\n"
     ]
    }
   ],
   "source": [
    "X_test = []\n",
    "for i in range(time_step, inputs.shape[0]):\n",
    "    X_test.append(inputs[i-time_step:i, 0])\n",
    "X_test = np.array(X_test)\n",
    "X_test = np.reshape(X_test, (X_test.shape[0], X_test.shape[1], 1))\n",
    "predicted_bitcoin_price = regressor.predict(X_test)\n",
    "predicted_bitcoin_price = scaler.inverse_transform(predicted_bitcoin_price)\n",
    "print(\"Standardized: %.2f (%.2f) MSE\" % (predicted_bitcoin_price.mean(), predicted_bitcoin_price.std()))\n",
    "\n",
    "\n",
    "\n",
    "# Visualising the results\n",
    "plt.plot(real_bitcoin_price, color = 'red', label = 'Real Bitcoin Price')\n",
    "plt.plot(predicted_bitcoin_price, color = 'blue', label = 'Predicted Bitcoin Price')\n",
    "plt.title('Bitcoin Price Prediction')\n",
    "plt.xlabel('Time')\n",
    "plt.ylabel('Bitcoin Price')\n",
    "plt.legend()\n",
    "plt.show()\n",
    "\n",
    "print(predicted_bitcoin_price)"
   ]
  },
  {
   "cell_type": "markdown",
   "metadata": {},
   "source": [
    "# Long Short Time Memory (LSTM)"
   ]
  },
  {
   "cell_type": "markdown",
   "metadata": {},
   "source": [
    "## Importing Libraries"
   ]
  },
  {
   "cell_type": "code",
   "execution_count": 89,
   "metadata": {
    "execution": {
     "iopub.execute_input": "2021-11-16T13:41:42.901026Z",
     "iopub.status.busy": "2021-11-16T13:41:42.900669Z",
     "iopub.status.idle": "2021-11-16T13:41:42.907648Z",
     "shell.execute_reply": "2021-11-16T13:41:42.906774Z",
     "shell.execute_reply.started": "2021-11-16T13:41:42.900982Z"
    }
   },
   "outputs": [],
   "source": [
    "import numpy as np\n",
    "import pandas as pd\n",
    "import matplotlib.pyplot as plt\n",
    "import math\n",
    "from keras.models import Sequential\n",
    "from keras.layers import Dense\n",
    "from keras.layers import LSTM\n",
    "from sklearn.preprocessing import MinMaxScaler\n",
    "from sklearn.metrics import mean_squared_error\n",
    "\n",
    "import warnings\n",
    "warnings.filterwarnings(\"ignore\")"
   ]
  },
  {
   "cell_type": "markdown",
   "metadata": {},
   "source": [
    "## Train and Test Split"
   ]
  },
  {
   "cell_type": "code",
   "execution_count": 90,
   "metadata": {
    "execution": {
     "iopub.execute_input": "2021-11-16T13:41:42.909568Z",
     "iopub.status.busy": "2021-11-16T13:41:42.909055Z",
     "iopub.status.idle": "2021-11-16T13:41:42.918074Z",
     "shell.execute_reply": "2021-11-16T13:41:42.917325Z",
     "shell.execute_reply.started": "2021-11-16T13:41:42.909529Z"
    }
   },
   "outputs": [],
   "source": [
    "# We divide the data by Training %10, Test %10"
   ]
  },
  {
   "cell_type": "code",
   "execution_count": 91,
   "metadata": {
    "execution": {
     "iopub.execute_input": "2021-11-16T13:41:42.920214Z",
     "iopub.status.busy": "2021-11-16T13:41:42.91929Z",
     "iopub.status.idle": "2021-11-16T13:41:42.930809Z",
     "shell.execute_reply": "2021-11-16T13:41:42.929938Z",
     "shell.execute_reply.started": "2021-11-16T13:41:42.92017Z"
    },
    "tags": []
   },
   "outputs": [
    {
     "name": "stdout",
     "output_type": "stream",
     "text": [
      "DF_Train size: 3038, DF_Test size: 338\n"
     ]
    }
   ],
   "source": [
    "train_size = int(len(grouped_data) * 0.90)\n",
    "test_size = len(grouped_data) - train_size\n",
    "df_train = grouped_data.iloc[0:train_size, :]\n",
    "df_test = grouped_data.iloc[train_size:len(grouped_data), :]\n",
    "print(\"DF_Train size: {}, DF_Test size: {}\". format(len(df_train), len(df_test)))"
   ]
  },
  {
   "cell_type": "markdown",
   "metadata": {},
   "source": [
    "## Visualizing Data"
   ]
  },
  {
   "cell_type": "code",
   "execution_count": 92,
   "metadata": {
    "execution": {
     "iopub.execute_input": "2021-11-16T13:41:42.932969Z",
     "iopub.status.busy": "2021-11-16T13:41:42.932128Z",
     "iopub.status.idle": "2021-11-16T13:41:43.161753Z",
     "shell.execute_reply": "2021-11-16T13:41:43.160933Z",
     "shell.execute_reply.started": "2021-11-16T13:41:42.932933Z"
    },
    "tags": []
   },
   "outputs": [
    {
     "data": {
      "image/png": "[encoded data removed]",
      "text/plain": [
       "<Figure size 921.6x633.6 with 1 Axes>"
      ]
     },
     "metadata": {
      "needs_background": "light"
     },
     "output_type": "display_data"
    }
   ],
   "source": [
    "data_plot = df_train.loc[:, [\"Close\"]].values\n",
    "plt.plot(data_plot)\n",
    "plt.xlabel(\"Time\")\n",
    "plt.ylabel(\"Values of Close\")\n",
    "plt.title(\"Bitcoin Close Prices\")\n",
    "plt.show()"
   ]
  },
  {
   "cell_type": "code",
   "execution_count": 93,
   "metadata": {
    "execution": {
     "iopub.execute_input": "2021-11-16T13:41:43.163157Z",
     "iopub.status.busy": "2021-11-16T13:41:43.162921Z",
     "iopub.status.idle": "2021-11-16T13:41:43.166783Z",
     "shell.execute_reply": "2021-11-16T13:41:43.165986Z",
     "shell.execute_reply.started": "2021-11-16T13:41:43.163127Z"
    }
   },
   "outputs": [],
   "source": [
    "#we will predict Close values"
   ]
  },
  {
   "cell_type": "code",
   "execution_count": 94,
   "metadata": {
    "execution": {
     "iopub.execute_input": "2021-11-16T13:41:43.168261Z",
     "iopub.status.busy": "2021-11-16T13:41:43.167948Z",
     "iopub.status.idle": "2021-11-16T13:41:43.182055Z",
     "shell.execute_reply": "2021-11-16T13:41:43.181353Z",
     "shell.execute_reply.started": "2021-11-16T13:41:43.168212Z"
    }
   },
   "outputs": [
    {
     "data": {
      "text/plain": [
       "(3038, 1)"
      ]
     },
     "execution_count": 94,
     "metadata": {},
     "output_type": "execute_result"
    }
   ],
   "source": [
    "dataset = df_train.loc[:, [\"Close\"]].values\n",
    "dataset.shape"
   ]
  },
  {
   "cell_type": "code",
   "execution_count": 95,
   "metadata": {
    "execution": {
     "iopub.execute_input": "2021-11-16T13:41:43.183586Z",
     "iopub.status.busy": "2021-11-16T13:41:43.183021Z",
     "iopub.status.idle": "2021-11-16T13:41:43.196746Z",
     "shell.execute_reply": "2021-11-16T13:41:43.195843Z",
     "shell.execute_reply.started": "2021-11-16T13:41:43.18355Z"
    }
   },
   "outputs": [
    {
     "data": {
      "text/plain": [
       "(3038, 1)"
      ]
     },
     "execution_count": 95,
     "metadata": {},
     "output_type": "execute_result"
    }
   ],
   "source": [
    "#reshape\n",
    "dataset = dataset.reshape(-1, 1)\n",
    "\n",
    "#change type\n",
    "dataset = dataset.astype(\"float32\")\n",
    "dataset.shape"
   ]
  },
  {
   "cell_type": "markdown",
   "metadata": {},
   "source": [
    "## Scaling Data"
   ]
  },
  {
   "cell_type": "code",
   "execution_count": 96,
   "metadata": {
    "execution": {
     "iopub.execute_input": "2021-11-16T13:41:43.198687Z",
     "iopub.status.busy": "2021-11-16T13:41:43.198384Z",
     "iopub.status.idle": "2021-11-16T13:41:43.20665Z",
     "shell.execute_reply": "2021-11-16T13:41:43.206036Z",
     "shell.execute_reply.started": "2021-11-16T13:41:43.198646Z"
    }
   },
   "outputs": [],
   "source": [
    "# Feature Scaling\n",
    "from sklearn.preprocessing import MinMaxScaler\n",
    "scaler = MinMaxScaler(feature_range = (0, 1))\n",
    "data_scaled = scaler.fit_transform(dataset)"
   ]
  },
  {
   "cell_type": "code",
   "execution_count": 97,
   "metadata": {
    "execution": {
     "iopub.execute_input": "2021-11-16T13:41:43.20904Z",
     "iopub.status.busy": "2021-11-16T13:41:43.208091Z",
     "iopub.status.idle": "2021-11-16T13:41:43.422737Z",
     "shell.execute_reply": "2021-11-16T13:41:43.421898Z",
     "shell.execute_reply.started": "2021-11-16T13:41:43.208992Z"
    }
   },
   "outputs": [
    {
     "data": {
      "image/png": "[encoded data removed]",
      "text/plain": [
       "<Figure size 921.6x633.6 with 1 Axes>"
      ]
     },
     "metadata": {
      "needs_background": "light"
     },
     "output_type": "display_data"
    }
   ],
   "source": [
    "plt.plot(data_scaled)\n",
    "plt.xlabel(\"Time\")\n",
    "plt.ylabel(\"Values of Close\")\n",
    "plt.title(\"Bitcoin Close Price (Scaled)\")\n",
    "plt.show()"
   ]
  },
  {
   "cell_type": "code",
   "execution_count": 98,
   "metadata": {
    "execution": {
     "iopub.execute_input": "2021-11-16T13:41:43.423958Z",
     "iopub.status.busy": "2021-11-16T13:41:43.423756Z",
     "iopub.status.idle": "2021-11-16T13:41:43.430678Z",
     "shell.execute_reply": "2021-11-16T13:41:43.42986Z",
     "shell.execute_reply.started": "2021-11-16T13:41:43.423933Z"
    }
   },
   "outputs": [
    {
     "name": "stdout",
     "output_type": "stream",
     "text": [
      "data_scaled_train size: 1519\n",
      "data_scaled_test size: 1519\n",
      "data_scaled_train shape: (1519, 1)\n",
      "data_scaled_test shape: (1519, 1)\n"
     ]
    }
   ],
   "source": [
    "# We divide the DATA_SCALED by Training %50, Test %50\n",
    "train_size = int(len(data_scaled) * 0.50)\n",
    "test_size = len(data_scaled) - train_size\n",
    "data_scaled_train = data_scaled[0:train_size, :]\n",
    "data_scaled_test = data_scaled[train_size:len(data_scaled), :]\n",
    "\n",
    "print(\"data_scaled_train size: {}\\ndata_scaled_test size: {}\". format(len(data_scaled_train), len(data_scaled_test)))\n",
    "print(\"data_scaled_train shape: {}\\ndata_scaled_test shape: {}\". format(data_scaled_train.shape, data_scaled_test.shape))"
   ]
  },
  {
   "cell_type": "code",
   "execution_count": 99,
   "metadata": {
    "execution": {
     "iopub.execute_input": "2021-11-16T13:41:43.43205Z",
     "iopub.status.busy": "2021-11-16T13:41:43.43171Z",
     "iopub.status.idle": "2021-11-16T13:41:43.445004Z",
     "shell.execute_reply": "2021-11-16T13:41:43.444216Z",
     "shell.execute_reply.started": "2021-11-16T13:41:43.432018Z"
    }
   },
   "outputs": [
    {
     "name": "stdout",
     "output_type": "stream",
     "text": [
      "trainX shape: (1508, 10)\n",
      "trainY shape: (1508,)\n"
     ]
    }
   ],
   "source": [
    "# Creating a data structure with 10 time_step and 1 output (TRAIN)\n",
    "time_step = 10\n",
    "dataX = []\n",
    "dataY = []\n",
    "for i in range(len(data_scaled_train) - time_step - 1):\n",
    "    a = data_scaled_train[i:(i + time_step), 0]\n",
    "    dataX.append(a)\n",
    "    dataY.append(data_scaled_train[i + time_step, 0])\n",
    "trainX = np.array(dataX)\n",
    "trainY = np.array(dataY)\n",
    "\n",
    "print(\"trainX shape: {}\\ntrainY shape: {}\". format(trainX.shape, trainY.shape))"
   ]
  },
  {
   "cell_type": "code",
   "execution_count": 100,
   "metadata": {
    "execution": {
     "iopub.execute_input": "2021-11-16T13:41:43.446526Z",
     "iopub.status.busy": "2021-11-16T13:41:43.446322Z",
     "iopub.status.idle": "2021-11-16T13:41:43.459388Z",
     "shell.execute_reply": "2021-11-16T13:41:43.458465Z",
     "shell.execute_reply.started": "2021-11-16T13:41:43.446501Z"
    }
   },
   "outputs": [
    {
     "name": "stdout",
     "output_type": "stream",
     "text": [
      "testX shape: (1508, 10)\n",
      "testY shape: (1508,)\n"
     ]
    }
   ],
   "source": [
    "# Creating a data structure with 10 time_step and 1 output (TEST)\n",
    "dataX = []\n",
    "dataY = []\n",
    "for i in range(len(data_scaled_test) - time_step -1):\n",
    "    a = data_scaled_test[i:(i + time_step), 0]\n",
    "    dataX.append(a)\n",
    "    dataY.append(data_scaled_test[i + time_step, 0])\n",
    "testX = np.array(dataX)\n",
    "testY = np.array(dataY)\n",
    "\n",
    "print(\"testX shape: {}\\ntestY shape: {}\". format(testX.shape, testY.shape))"
   ]
  },
  {
   "cell_type": "code",
   "execution_count": 101,
   "metadata": {
    "execution": {
     "iopub.execute_input": "2021-11-16T13:41:43.460799Z",
     "iopub.status.busy": "2021-11-16T13:41:43.460507Z",
     "iopub.status.idle": "2021-11-16T13:41:43.469721Z",
     "shell.execute_reply": "2021-11-16T13:41:43.468822Z",
     "shell.execute_reply.started": "2021-11-16T13:41:43.46076Z"
    },
    "tags": []
   },
   "outputs": [
    {
     "name": "stdout",
     "output_type": "stream",
     "text": [
      "X_train shape:  (1508, 1, 10)\n",
      "X_test shape:  (1508, 1, 10)\n"
     ]
    }
   ],
   "source": [
    "# Reshaping to 3D\n",
    "trainX = np.reshape(trainX, (trainX.shape[0], 1, trainX.shape[1]))\n",
    "testX = np.reshape(testX, (testX.shape[0], 1, testX.shape[1]))\n",
    "\n",
    "print(\"X_train shape: \",trainX.shape)\n",
    "print(\"X_test shape: \",testX.shape)"
   ]
  },
  {
   "cell_type": "markdown",
   "metadata": {},
   "source": [
    "## Modeling (LSTM)"
   ]
  },
  {
   "cell_type": "code",
   "execution_count": 102,
   "metadata": {
    "execution": {
     "iopub.execute_input": "2021-11-16T13:41:43.471319Z",
     "iopub.status.busy": "2021-11-16T13:41:43.471089Z",
     "iopub.status.idle": "2021-11-16T13:41:43.480114Z",
     "shell.execute_reply": "2021-11-16T13:41:43.479282Z",
     "shell.execute_reply.started": "2021-11-16T13:41:43.471292Z"
    }
   },
   "outputs": [],
   "source": [
    "# Importing the Keras libraries and packages\n",
    "from keras.models import Sequential\n",
    "from keras.layers import Dense\n",
    "from keras.layers import LSTM\n",
    "from keras.layers import Dropout\n",
    "from keras.layers import Activation"
   ]
  },
  {
   "cell_type": "code",
   "execution_count": 109,
   "metadata": {
    "execution": {
     "iopub.execute_input": "2021-11-16T13:43:07.304121Z",
     "iopub.status.busy": "2021-11-16T13:43:07.303675Z",
     "iopub.status.idle": "2021-11-16T13:43:25.283944Z",
     "shell.execute_reply": "2021-11-16T13:43:25.28295Z",
     "shell.execute_reply.started": "2021-11-16T13:43:07.304089Z"
    },
    "tags": []
   },
   "outputs": [
    {
     "name": "stdout",
     "output_type": "stream",
     "text": [
      "Epoch 1/100\n",
      "95/95 [==============================] - 2s 4ms/step - loss: 0.0748 - accuracy: 6.6313e-04\n",
      "Epoch 2/100\n",
      "95/95 [==============================] - 0s 4ms/step - loss: 0.0647 - accuracy: 6.6313e-04\n",
      "Epoch 3/100\n",
      "95/95 [==============================] - 0s 4ms/step - loss: 0.0640 - accuracy: 6.6313e-04\n",
      "Epoch 4/100\n",
      "95/95 [==============================] - 0s 4ms/step - loss: 0.0641 - accuracy: 6.6313e-04\n",
      "Epoch 5/100\n",
      "95/95 [==============================] - 0s 4ms/step - loss: 0.0648 - accuracy: 6.6313e-04\n",
      "Epoch 6/100\n",
      "95/95 [==============================] - 0s 4ms/step - loss: 0.0642 - accuracy: 6.6313e-04\n",
      "Epoch 7/100\n",
      "95/95 [==============================] - 0s 4ms/step - loss: 0.0641 - accuracy: 6.6313e-04\n",
      "Epoch 8/100\n",
      "95/95 [==============================] - 0s 4ms/step - loss: 0.0646 - accuracy: 6.6313e-04\n",
      "Epoch 9/100\n",
      "95/95 [==============================] - 0s 4ms/step - loss: 0.0648 - accuracy: 6.6313e-04\n",
      "Epoch 10/100\n",
      "95/95 [==============================] - 0s 4ms/step - loss: 0.0646 - accuracy: 6.6313e-04\n",
      "Epoch 11/100\n",
      "95/95 [==============================] - 0s 4ms/step - loss: 0.0703 - accuracy: 6.6313e-04\n",
      "Epoch 12/100\n",
      "95/95 [==============================] - 0s 4ms/step - loss: 0.0644 - accuracy: 6.6313e-04\n",
      "Epoch 13/100\n",
      "95/95 [==============================] - 0s 4ms/step - loss: 0.0643 - accuracy: 6.6313e-04\n",
      "Epoch 14/100\n",
      "95/95 [==============================] - 0s 4ms/step - loss: 0.0642 - accuracy: 6.6313e-04\n",
      "Epoch 15/100\n",
      "95/95 [==============================] - 0s 4ms/step - loss: 0.0642 - accuracy: 6.6313e-04\n",
      "Epoch 16/100\n",
      "95/95 [==============================] - 0s 4ms/step - loss: 0.0641 - accuracy: 6.6313e-04\n",
      "Epoch 17/100\n",
      "95/95 [==============================] - 0s 4ms/step - loss: 0.0672 - accuracy: 6.6313e-04\n",
      "Epoch 18/100\n",
      "95/95 [==============================] - 0s 4ms/step - loss: 0.0642 - accuracy: 6.6313e-04\n",
      "Epoch 19/100\n",
      "95/95 [==============================] - 0s 4ms/step - loss: 0.0644 - accuracy: 6.6313e-04\n",
      "Epoch 20/100\n",
      "95/95 [==============================] - 0s 4ms/step - loss: 0.0641 - accuracy: 6.6313e-04\n",
      "Epoch 21/100\n",
      "95/95 [==============================] - 1s 5ms/step - loss: 0.0640 - accuracy: 6.6313e-04\n",
      "Epoch 22/100\n",
      "95/95 [==============================] - 0s 5ms/step - loss: 0.0697 - accuracy: 6.6313e-04\n",
      "Epoch 23/100\n",
      "95/95 [==============================] - 0s 4ms/step - loss: 0.0644 - accuracy: 6.6313e-04\n",
      "Epoch 24/100\n",
      "95/95 [==============================] - 0s 5ms/step - loss: 0.0643 - accuracy: 6.6313e-04\n",
      "Epoch 25/100\n",
      "95/95 [==============================] - 0s 4ms/step - loss: 0.0641 - accuracy: 6.6313e-04\n",
      "Epoch 26/100\n",
      "95/95 [==============================] - 0s 5ms/step - loss: 0.0646 - accuracy: 6.6313e-04\n",
      "Epoch 27/100\n",
      "95/95 [==============================] - 0s 5ms/step - loss: 0.0641 - accuracy: 6.6313e-04\n",
      "Epoch 28/100\n",
      "95/95 [==============================] - 0s 5ms/step - loss: 0.0641 - accuracy: 6.6313e-04\n",
      "Epoch 29/100\n",
      "95/95 [==============================] - 0s 4ms/step - loss: 0.0678 - accuracy: 6.6313e-04\n",
      "Epoch 30/100\n",
      "95/95 [==============================] - 0s 4ms/step - loss: 0.0649 - accuracy: 6.6313e-04\n",
      "Epoch 31/100\n",
      "95/95 [==============================] - 0s 4ms/step - loss: 0.0643 - accuracy: 6.6313e-04\n",
      "Epoch 32/100\n",
      "95/95 [==============================] - 0s 4ms/step - loss: 0.0642 - accuracy: 6.6313e-04\n",
      "Epoch 33/100\n",
      "95/95 [==============================] - 0s 4ms/step - loss: 0.0643 - accuracy: 6.6313e-04\n",
      "Epoch 34/100\n",
      "95/95 [==============================] - 0s 4ms/step - loss: 0.0648 - accuracy: 6.6313e-04\n",
      "Epoch 35/100\n",
      "95/95 [==============================] - 0s 4ms/step - loss: 0.0642 - accuracy: 6.6313e-04\n",
      "Epoch 36/100\n",
      "95/95 [==============================] - 0s 4ms/step - loss: 0.0640 - accuracy: 6.6313e-04\n",
      "Epoch 37/100\n",
      "95/95 [==============================] - 0s 4ms/step - loss: 0.0642 - accuracy: 6.6313e-04\n",
      "Epoch 38/100\n",
      "95/95 [==============================] - 0s 5ms/step - loss: 0.0640 - accuracy: 6.6313e-04\n",
      "Epoch 39/100\n",
      "95/95 [==============================] - 0s 4ms/step - loss: 0.0648 - accuracy: 6.6313e-04\n",
      "Epoch 40/100\n",
      "95/95 [==============================] - 0s 4ms/step - loss: 0.0639 - accuracy: 6.6313e-04\n",
      "Epoch 41/100\n",
      "95/95 [==============================] - 0s 4ms/step - loss: 0.0639 - accuracy: 6.6313e-04\n",
      "Epoch 42/100\n",
      "95/95 [==============================] - 0s 4ms/step - loss: 0.0639 - accuracy: 6.6313e-04\n",
      "Epoch 43/100\n",
      "95/95 [==============================] - 0s 4ms/step - loss: 0.0638 - accuracy: 6.6313e-04\n",
      "Epoch 44/100\n",
      "95/95 [==============================] - 0s 4ms/step - loss: 0.0640 - accuracy: 6.6313e-04\n",
      "Epoch 45/100\n",
      "95/95 [==============================] - 0s 4ms/step - loss: 0.0695 - accuracy: 6.6313e-04\n",
      "Epoch 46/100\n",
      "95/95 [==============================] - 0s 4ms/step - loss: 0.0649 - accuracy: 6.6313e-04\n",
      "Epoch 47/100\n",
      "95/95 [==============================] - 0s 4ms/step - loss: 0.0643 - accuracy: 6.6313e-04\n",
      "Epoch 48/100\n",
      "95/95 [==============================] - 0s 4ms/step - loss: 0.0643 - accuracy: 6.6313e-04\n",
      "Epoch 49/100\n",
      "95/95 [==============================] - 0s 4ms/step - loss: 0.0642 - accuracy: 6.6313e-04\n",
      "Epoch 50/100\n",
      "95/95 [==============================] - 0s 4ms/step - loss: 0.0650 - accuracy: 6.6313e-04\n",
      "Epoch 51/100\n",
      "95/95 [==============================] - 0s 4ms/step - loss: 0.0653 - accuracy: 6.6313e-04\n",
      "Epoch 52/100\n",
      "95/95 [==============================] - 0s 4ms/step - loss: 0.0657 - accuracy: 6.6313e-04\n",
      "Epoch 53/100\n",
      "95/95 [==============================] - 0s 5ms/step - loss: 0.0646 - accuracy: 6.6313e-04\n",
      "Epoch 54/100\n",
      "95/95 [==============================] - 0s 4ms/step - loss: 0.0645 - accuracy: 6.6313e-04\n",
      "Epoch 55/100\n",
      "95/95 [==============================] - 0s 5ms/step - loss: 0.0642 - accuracy: 6.6313e-04\n",
      "Epoch 56/100\n",
      "95/95 [==============================] - 0s 5ms/step - loss: 0.0642 - accuracy: 6.6313e-04\n",
      "Epoch 57/100\n",
      "95/95 [==============================] - 0s 4ms/step - loss: 0.0641 - accuracy: 6.6313e-04\n",
      "Epoch 58/100\n",
      "95/95 [==============================] - 0s 5ms/step - loss: 0.0642 - accuracy: 6.6313e-04\n",
      "Epoch 59/100\n",
      "95/95 [==============================] - 0s 4ms/step - loss: 0.0642 - accuracy: 6.6313e-04\n",
      "Epoch 60/100\n",
      "95/95 [==============================] - 0s 4ms/step - loss: 0.0648 - accuracy: 6.6313e-04\n",
      "Epoch 61/100\n",
      "95/95 [==============================] - 0s 4ms/step - loss: 0.0652 - accuracy: 6.6313e-04\n",
      "Epoch 62/100\n",
      "95/95 [==============================] - 0s 4ms/step - loss: 0.0643 - accuracy: 6.6313e-04\n",
      "Epoch 63/100\n",
      "95/95 [==============================] - 0s 4ms/step - loss: 0.0641 - accuracy: 6.6313e-04\n",
      "Epoch 64/100\n",
      "95/95 [==============================] - 0s 5ms/step - loss: 0.0645 - accuracy: 6.6313e-04\n",
      "Epoch 65/100\n",
      "95/95 [==============================] - 0s 5ms/step - loss: 0.0641 - accuracy: 6.6313e-04\n",
      "Epoch 66/100\n",
      "95/95 [==============================] - 1s 5ms/step - loss: 0.0644 - accuracy: 6.6313e-04\n",
      "Epoch 67/100\n",
      "95/95 [==============================] - 0s 4ms/step - loss: 0.0640 - accuracy: 6.6313e-04\n",
      "Epoch 68/100\n",
      "95/95 [==============================] - 0s 4ms/step - loss: 0.0642 - accuracy: 6.6313e-04\n",
      "Epoch 69/100\n",
      "95/95 [==============================] - 0s 4ms/step - loss: 0.0641 - accuracy: 6.6313e-04\n",
      "Epoch 70/100\n",
      "95/95 [==============================] - 0s 4ms/step - loss: 0.0659 - accuracy: 6.6313e-04\n",
      "Epoch 71/100\n",
      "95/95 [==============================] - 0s 5ms/step - loss: 0.0641 - accuracy: 6.6313e-04\n",
      "Epoch 72/100\n",
      "95/95 [==============================] - 0s 5ms/step - loss: 0.0647 - accuracy: 6.6313e-04\n",
      "Epoch 73/100\n",
      "95/95 [==============================] - 0s 4ms/step - loss: 0.0679 - accuracy: 6.6313e-04\n",
      "Epoch 74/100\n",
      "95/95 [==============================] - 0s 5ms/step - loss: 0.0647 - accuracy: 6.6313e-04\n",
      "Epoch 75/100\n",
      "95/95 [==============================] - 0s 4ms/step - loss: 0.0646 - accuracy: 6.6313e-04\n",
      "Epoch 76/100\n",
      "95/95 [==============================] - 0s 4ms/step - loss: 0.0645 - accuracy: 6.6313e-04\n",
      "Epoch 77/100\n",
      "95/95 [==============================] - 0s 4ms/step - loss: 0.0645 - accuracy: 6.6313e-04\n",
      "Epoch 78/100\n",
      "95/95 [==============================] - 0s 4ms/step - loss: 0.0644 - accuracy: 6.6313e-04\n",
      "Epoch 79/100\n"
     ]
    },
    {
     "name": "stdout",
     "output_type": "stream",
     "text": [
      "95/95 [==============================] - 0s 4ms/step - loss: 0.0642 - accuracy: 6.6313e-04\n",
      "Epoch 80/100\n",
      "95/95 [==============================] - 0s 4ms/step - loss: 0.0696 - accuracy: 6.6313e-04\n",
      "Epoch 81/100\n",
      "95/95 [==============================] - 0s 5ms/step - loss: 0.0664 - accuracy: 6.6313e-04\n",
      "Epoch 82/100\n",
      "95/95 [==============================] - 0s 4ms/step - loss: 0.0652 - accuracy: 6.6313e-04\n",
      "Epoch 83/100\n",
      "95/95 [==============================] - 0s 4ms/step - loss: 0.0653 - accuracy: 6.6313e-04\n",
      "Epoch 84/100\n",
      "95/95 [==============================] - 0s 5ms/step - loss: 0.0650 - accuracy: 6.6313e-04\n",
      "Epoch 85/100\n",
      "95/95 [==============================] - 0s 4ms/step - loss: 0.0647 - accuracy: 6.6313e-04\n",
      "Epoch 86/100\n",
      "95/95 [==============================] - 0s 4ms/step - loss: 0.0668 - accuracy: 6.6313e-04\n",
      "Epoch 87/100\n",
      "95/95 [==============================] - 0s 4ms/step - loss: 0.0649 - accuracy: 6.6313e-04\n",
      "Epoch 88/100\n",
      "95/95 [==============================] - 0s 4ms/step - loss: 0.0645 - accuracy: 6.6313e-04\n",
      "Epoch 89/100\n",
      "95/95 [==============================] - 0s 4ms/step - loss: 0.0693 - accuracy: 6.6313e-04\n",
      "Epoch 90/100\n",
      "95/95 [==============================] - 0s 4ms/step - loss: 0.0649 - accuracy: 6.6313e-04\n",
      "Epoch 91/100\n",
      "95/95 [==============================] - 0s 4ms/step - loss: 0.0646 - accuracy: 6.6313e-04\n",
      "Epoch 92/100\n",
      "95/95 [==============================] - 0s 5ms/step - loss: 0.0678 - accuracy: 6.6313e-04\n",
      "Epoch 93/100\n",
      "95/95 [==============================] - 0s 5ms/step - loss: 0.0648 - accuracy: 6.6313e-04\n",
      "Epoch 94/100\n",
      "95/95 [==============================] - 0s 5ms/step - loss: 0.0648 - accuracy: 6.6313e-04\n",
      "Epoch 95/100\n",
      "95/95 [==============================] - 0s 4ms/step - loss: 0.0655 - accuracy: 6.6313e-04\n",
      "Epoch 96/100\n",
      "95/95 [==============================] - 0s 4ms/step - loss: 0.0644 - accuracy: 6.6313e-04\n",
      "Epoch 97/100\n",
      "95/95 [==============================] - 0s 4ms/step - loss: 0.0645 - accuracy: 6.6313e-04\n",
      "Epoch 98/100\n",
      "95/95 [==============================] - 0s 4ms/step - loss: 0.0660 - accuracy: 6.6313e-04\n",
      "Epoch 99/100\n",
      "95/95 [==============================] - 0s 4ms/step - loss: 0.0652 - accuracy: 6.6313e-04\n",
      "Epoch 100/100\n",
      "95/95 [==============================] - 0s 4ms/step - loss: 0.0701 - accuracy: 6.6313e-04\n"
     ]
    },
    {
     "data": {
      "text/plain": [
       "<keras.callbacks.History at 0x20a090b3fd0>"
      ]
     },
     "execution_count": 109,
     "metadata": {},
     "output_type": "execute_result"
    }
   ],
   "source": [
    "# model\n",
    "model = Sequential()\n",
    "model.add(LSTM(256, input_shape = (1, time_step))) # 256 LSTM neuron(block)\n",
    "model.add(Dropout(0.2))\n",
    "model.add(Dense(1))\n",
    "model.compile(loss= \"binary_crossentropy\", optimizer = \"adam\" , metrics=['accuracy'])\n",
    "model.fit(trainX, trainY, epochs=100, batch_size=16)"
   ]
  },
  {
   "cell_type": "code",
   "execution_count": 105,
   "metadata": {
    "execution": {
     "iopub.execute_input": "2021-11-16T13:43:31.938571Z",
     "iopub.status.busy": "2021-11-16T13:43:31.93827Z",
     "iopub.status.idle": "2021-11-16T13:43:31.946267Z",
     "shell.execute_reply": "2021-11-16T13:43:31.945324Z",
     "shell.execute_reply.started": "2021-11-16T13:43:31.938534Z"
    }
   },
   "outputs": [
    {
     "name": "stdout",
     "output_type": "stream",
     "text": [
      "Model: \"sequential_13\"\n",
      "_________________________________________________________________\n",
      " Layer (type)                Output Shape              Param #   \n",
      "=================================================================\n",
      " lstm_2 (LSTM)               (None, 256)               273408    \n",
      "                                                                 \n",
      " dropout_46 (Dropout)        (None, 256)               0         \n",
      "                                                                 \n",
      " dense_13 (Dense)            (None, 1)                 257       \n",
      "                                                                 \n",
      "=================================================================\n",
      "Total params: 273,665\n",
      "Trainable params: 273,665\n",
      "Non-trainable params: 0\n",
      "_________________________________________________________________\n"
     ]
    }
   ],
   "source": [
    "model.summary()"
   ]
  },
  {
   "cell_type": "markdown",
   "metadata": {},
   "source": [
    "## Prediction and Visulazation"
   ]
  },
  {
   "cell_type": "code",
   "execution_count": 106,
   "metadata": {
    "execution": {
     "iopub.execute_input": "2021-11-16T13:43:39.964903Z",
     "iopub.status.busy": "2021-11-16T13:43:39.964421Z",
     "iopub.status.idle": "2021-11-16T13:43:40.646062Z",
     "shell.execute_reply": "2021-11-16T13:43:40.645417Z",
     "shell.execute_reply.started": "2021-11-16T13:43:39.964847Z"
    }
   },
   "outputs": [
    {
     "name": "stdout",
     "output_type": "stream",
     "text": [
      "Train Score: 31.53 RMSE\n",
      "Test Score: 2021.81 RMSE\n"
     ]
    }
   ],
   "source": [
    "trainPredict = model.predict(trainX)\n",
    "testPredict = model.predict(testX)\n",
    "\n",
    "# invert predictions\n",
    "trainPredict = scaler.inverse_transform(trainPredict)\n",
    "trainY_ = scaler.inverse_transform([trainY])\n",
    "testPredict = scaler.inverse_transform(testPredict)\n",
    "testY_ = scaler.inverse_transform([testY])\n",
    "\n",
    "# calculate root mean squared error\n",
    "trainscore = math.sqrt(mean_squared_error(trainY_[0], trainPredict[:, 0]))\n",
    "print(\"Train Score: %.2f RMSE\" % (trainscore))\n",
    "testscore = math.sqrt(mean_squared_error(testY_[0], testPredict[:, 0]))\n",
    "print(\"Test Score: %.2f RMSE\" % (testscore))"
   ]
  },
  {
   "cell_type": "code",
   "execution_count": 107,
   "metadata": {
    "execution": {
     "iopub.execute_input": "2021-11-16T13:43:42.25126Z",
     "iopub.status.busy": "2021-11-16T13:43:42.250816Z",
     "iopub.status.idle": "2021-11-16T13:43:42.47978Z",
     "shell.execute_reply": "2021-11-16T13:43:42.478957Z",
     "shell.execute_reply.started": "2021-11-16T13:43:42.251213Z"
    }
   },
   "outputs": [
    {
     "name": "stderr",
     "output_type": "stream",
     "text": [
      "No handles with labels found to put in legend.\n"
     ]
    },
    {
     "data": {
      "image/png": "[encoded data removed]",
      "text/plain": [
       "<Figure size 921.6x633.6 with 1 Axes>"
      ]
     },
     "metadata": {
      "needs_background": "light"
     },
     "output_type": "display_data"
    }
   ],
   "source": [
    "# shifting train\n",
    "trainPredictPlot = np.empty_like(data_scaled)\n",
    "trainPredictPlot[:, :] = np.nan\n",
    "trainPredictPlot[time_step:len(trainPredict) + time_step, :] = trainPredict\n",
    "# shifting test predictions for plotting\n",
    "testPredictPlot = np.empty_like(data_scaled)\n",
    "testPredictPlot[:, :] = np.nan\n",
    "testPredictPlot[len(trainPredict) + (time_step * 2) + 1:len(data_scaled) - 1, :] = testPredict\n",
    "# plot baseline and predictions\n",
    "plt.plot(scaler.inverse_transform(data_scaled))\n",
    "plt.plot(trainPredictPlot)\n",
    "plt.plot(testPredictPlot)\n",
    "#plt.xlim(2500,3200)\n",
    "plt.legend()\n",
    "plt.show()"
   ]
  },
  {
   "cell_type": "code",
   "execution_count": 108,
   "metadata": {
    "execution": {
     "iopub.execute_input": "2021-11-16T13:43:52.7186Z",
     "iopub.status.busy": "2021-11-16T13:43:52.718293Z",
     "iopub.status.idle": "2021-11-16T13:43:52.978328Z",
     "shell.execute_reply": "2021-11-16T13:43:52.977362Z",
     "shell.execute_reply.started": "2021-11-16T13:43:52.718564Z"
    }
   },
   "outputs": [
    {
     "data": {
      "image/png": "[encoded data removed]",
      "text/plain": [
       "<Figure size 921.6x633.6 with 1 Axes>"
      ]
     },
     "metadata": {
      "needs_background": "light"
     },
     "output_type": "display_data"
    }
   ],
   "source": [
    "# Visualising the results\n",
    "plt.plot(scaler.inverse_transform(data_scaled), color = 'red', label = 'Real Bitcoin Price')\n",
    "plt.plot(testPredictPlot, color = 'blue', label = 'Predicted Bitcoin Price')\n",
    "plt.title('Bitcoin Price Prediction')\n",
    "plt.xlabel('Time')\n",
    "plt.ylabel('Bitcoin Price')\n",
    "plt.legend()\n",
    "plt.show()"
   ]
  },
  {
   "cell_type": "code",
   "execution_count": null,
   "metadata": {},
   "outputs": [],
   "source": []
  }
 ],
 "metadata": {
  "kernelspec": {
   "display_name": "Python 3 (ipykernel)",
   "language": "python",
   "name": "python3"
  },
  "language_info": {
   "codemirror_mode": {
    "name": "ipython",
    "version": 3
   },
   "file_extension": ".py",
   "mimetype": "text/x-python",
   "name": "python",
   "nbconvert_exporter": "python",
   "pygments_lexer": "ipython3",
   "version": "3.9.7"
  }
 },
 "nbformat": 4,
 "nbformat_minor": 4
}
